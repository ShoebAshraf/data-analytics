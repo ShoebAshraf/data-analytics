{
 "cells": [
  {
   "cell_type": "code",
   "execution_count": 12,
   "metadata": {},
   "outputs": [],
   "source": [
    "students={\n",
    "    'Maulik':{\n",
    "        'College':'MU',\n",
    "        'type':'Offline'\n",
    "    },\n",
    "    'Aman':'NPGC',\n",
    "    'Abhay':'NPGC',\n",
    "    'Mazahar':'AU',\n",
    "    'Imadul':'IU',\n",
    "    'Prashutosh':'SHUATS',\n",
    "    'Shoeb':{\n",
    "        'College':'IET',\n",
    "        'type' : 'online'\n",
    "    },\n",
    "    'Mandavi':{\n",
    "        'college':'HNBGU',\n",
    "        'Type':'online'\n",
    "    }\n",
    "}"
   ]
  },
  {
   "cell_type": "code",
   "execution_count": 6,
   "metadata": {},
   "outputs": [
    {
     "data": {
      "text/plain": [
       "'NPGC'"
      ]
     },
     "execution_count": 6,
     "metadata": {},
     "output_type": "execute_result"
    }
   ],
   "source": [
    "students['Aman']"
   ]
  },
  {
   "cell_type": "code",
   "execution_count": 9,
   "metadata": {},
   "outputs": [],
   "source": [
    "from pprint import pp"
   ]
  },
  {
   "cell_type": "code",
   "execution_count": 13,
   "metadata": {},
   "outputs": [
    {
     "name": "stdout",
     "output_type": "stream",
     "text": [
      "{'Maulik': {'College': 'MU', 'type': 'Offline'},\n",
      " 'Aman': 'NPGC',\n",
      " 'Abhay': 'NPGC',\n",
      " 'Mazahar': 'AU',\n",
      " 'Imadul': 'IU',\n",
      " 'Prashutosh': 'SHUATS',\n",
      " 'Shoeb': {'College': 'IET', 'type': 'online'},\n",
      " 'Mandavi': {'college': 'HNBGU', 'Type': 'online'}}\n"
     ]
    }
   ],
   "source": [
    "pp(students)"
   ]
  },
  {
   "cell_type": "code",
   "execution_count": 14,
   "metadata": {},
   "outputs": [
    {
     "data": {
      "text/plain": [
       "'online'"
      ]
     },
     "execution_count": 14,
     "metadata": {},
     "output_type": "execute_result"
    }
   ],
   "source": [
    "students['Mandavi']['Type']"
   ]
  },
  {
   "cell_type": "code",
   "execution_count": 16,
   "metadata": {},
   "outputs": [],
   "source": [
    "students['Shreya']={\n",
    "    'college':'BBDU',\n",
    "    'type':'online'\n",
    "}"
   ]
  },
  {
   "cell_type": "code",
   "execution_count": 18,
   "metadata": {},
   "outputs": [
    {
     "name": "stdout",
     "output_type": "stream",
     "text": [
      "{'Maulik': {'College': 'MU', 'type': 'Offline'},\n",
      " 'Aman': 'NPGC',\n",
      " 'Abhay': 'NPGC',\n",
      " 'Mazahar': 'AU',\n",
      " 'Imadul': 'IU',\n",
      " 'Prashutosh': 'SHUATS',\n",
      " 'Shoeb': {'College': 'IET', 'type': 'online'},\n",
      " 'Mandavi': {'college': 'HNBGU', 'Type': 'online'},\n",
      " 'Shreya': {'college': 'BBDU', 'type': 'online'}}\n"
     ]
    }
   ],
   "source": [
    "pp(students)"
   ]
  },
  {
   "cell_type": "code",
   "execution_count": 20,
   "metadata": {},
   "outputs": [
    {
     "name": "stdout",
     "output_type": "stream",
     "text": [
      "{'Maulik': {'College': 'MU', 'type': 'Offline'},\n",
      " 'Aman': 'NPGC',\n",
      " 'Abhay': 'NPGC',\n",
      " 'Mazahar': 'AU',\n",
      " 'Imadul': 'IU',\n",
      " 'Prashutosh': 'SHUATS',\n",
      " 'Shoeb': {'College': 'IET', 'type': 'flexi'},\n",
      " 'Mandavi': {'college': 'HNBGU', 'Type': 'online'},\n",
      " 'Shreya': {'college': 'BBDU', 'type': 'online'}}\n"
     ]
    }
   ],
   "source": [
    "students['Shoeb']['type']='flexi'\n",
    "pp(students)"
   ]
  },
  {
   "cell_type": "code",
   "execution_count": 21,
   "metadata": {},
   "outputs": [
    {
     "data": {
      "text/plain": [
       "'NPGC'"
      ]
     },
     "execution_count": 21,
     "metadata": {},
     "output_type": "execute_result"
    }
   ],
   "source": [
    "students.pop('Abhay')"
   ]
  },
  {
   "cell_type": "code",
   "execution_count": 22,
   "metadata": {},
   "outputs": [
    {
     "name": "stdout",
     "output_type": "stream",
     "text": [
      "{'Maulik': {'College': 'MU', 'type': 'Offline'},\n",
      " 'Aman': 'NPGC',\n",
      " 'Mazahar': 'AU',\n",
      " 'Imadul': 'IU',\n",
      " 'Prashutosh': 'SHUATS',\n",
      " 'Shoeb': {'College': 'IET', 'type': 'flexi'},\n",
      " 'Mandavi': {'college': 'HNBGU', 'Type': 'online'},\n",
      " 'Shreya': {'college': 'BBDU', 'type': 'online'}}\n"
     ]
    }
   ],
   "source": [
    "pp(students)"
   ]
  },
  {
   "cell_type": "code",
   "execution_count": 24,
   "metadata": {},
   "outputs": [],
   "source": [
    "report={\n",
    "    'class10':{\n",
    "        'rohan':{\n",
    "            'english':90,\n",
    "            'maths':95,\n",
    "            'hindi':85,\n",
    "            'science':95,\n",
    "            'ssc':95,\n",
    "            'p.e':95,\n",
    "        },\n",
    "        'mohit':{\n",
    "            'english':90,\n",
    "            'maths':95,\n",
    "            'hindi':85,\n",
    "            'science':95,\n",
    "            'ssc':95,\n",
    "            'p.e':95,\n",
    "\n",
    "        },\n",
    "        'shreya':{\n",
    "            'english':80,\n",
    "            'maths':85,\n",
    "            'hindi':75,\n",
    "            'science':75,\n",
    "            'ssc':85,\n",
    "            'p.e':65,\n",
    "\n",
    "        },\n",
    "        'shubham':{\n",
    "            'english':70,\n",
    "            'maths':85,\n",
    "            'hindi':95,\n",
    "            'science':75,\n",
    "            'ssc':65,\n",
    "            'p.e':95,\n",
    "\n",
    "        },\n",
    "        'shruti':{\n",
    "            'english':40,\n",
    "            'maths':85,\n",
    "            'hindi':95,\n",
    "            'science':75,\n",
    "            'ssc':65,\n",
    "            'p.e':95,\n",
    "            },\n",
    "        'alex':{\n",
    "            'english':52,\n",
    "            'maths':75,\n",
    "            'hindi':93,\n",
    "            'science':72,\n",
    "            'ssc':45,\n",
    "            'p.e':85,\n",
    "        },\n",
    "    }\n",
    "}"
   ]
  },
  {
   "cell_type": "code",
   "execution_count": 28,
   "metadata": {},
   "outputs": [
    {
     "name": "stdout",
     "output_type": "stream",
     "text": [
      "{'class10': {'rohan': {'english': 90,\n",
      "                       'maths': 95,\n",
      "                       'hindi': 85,\n",
      "                       'science': 95,\n",
      "                       'ssc': 95,\n",
      "                       'p.e': 95},\n",
      "             'mohit': {'english': 90,\n",
      "                       'maths': 95,\n",
      "                       'hindi': 85,\n",
      "                       'science': 95,\n",
      "                       'ssc': 95,\n",
      "                       'p.e': 95},\n",
      "             'shreya': {'english': 80,\n",
      "                        'maths': 85,\n",
      "                        'hindi': 75,\n",
      "                        'science': 75,\n",
      "                        'ssc': 85,\n",
      "                        'p.e': 65},\n",
      "             'shubham': {'english': 70,\n",
      "                         'maths': 85,\n",
      "                         'hindi': 95,\n",
      "                         'science': 75,\n",
      "                         'ssc': 65,\n",
      "                         'p.e': 95},\n",
      "             'shruti': {'english': 40,\n",
      "                        'maths': 85,\n",
      "                        'hindi': 95,\n",
      "                        'science': 75,\n",
      "                        'ssc': 65,\n",
      "                        'p.e': 95},\n",
      "             'alex': {'english': 52,\n",
      "                      'maths': 75,\n",
      "                      'hindi': 93,\n",
      "                      'science': 72,\n",
      "                      'ssc': 45,\n",
      "                      'p.e': 85}}}\n"
     ]
    }
   ],
   "source": [
    "pp(report)"
   ]
  },
  {
   "cell_type": "code",
   "execution_count": null,
   "metadata": {},
   "outputs": [],
   "source": []
  }
 ],
 "metadata": {
  "kernelspec": {
   "display_name": "base",
   "language": "python",
   "name": "python3"
  },
  "language_info": {
   "codemirror_mode": {
    "name": "ipython",
    "version": 3
   },
   "file_extension": ".py",
   "mimetype": "text/x-python",
   "name": "python",
   "nbconvert_exporter": "python",
   "pygments_lexer": "ipython3",
   "version": "3.10.10"
  },
  "orig_nbformat": 4
 },
 "nbformat": 4,
 "nbformat_minor": 2
}
