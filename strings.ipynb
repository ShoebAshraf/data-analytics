{
 "cells": [
  {
   "attachments": {},
   "cell_type": "markdown",
   "metadata": {},
   "source": [
    "STRINGS\n",
    "-creating\n",
    "-indexing\n",
    "-slicing\n",
    "-methods\n",
    "        -formatting methods\n",
    "        -validation methods\n",
    "        -utility methods"
   ]
  },
  {
   "cell_type": "code",
   "execution_count": 2,
   "metadata": {},
   "outputs": [],
   "source": [
    "a='hello'\n",
    "b=\"hola\"\n",
    "c='''this is a \n",
    "multiline message from\n",
    "the past'''"
   ]
  },
  {
   "cell_type": "code",
   "execution_count": 3,
   "metadata": {},
   "outputs": [
    {
     "data": {
      "text/plain": [
       "'this is an important message'"
      ]
     },
     "execution_count": 3,
     "metadata": {},
     "output_type": "execute_result"
    }
   ],
   "source": [
    "'this is an important message'"
   ]
  },
  {
   "cell_type": "code",
   "execution_count": 4,
   "metadata": {},
   "outputs": [
    {
     "name": "stdout",
     "output_type": "stream",
     "text": [
      "this is an important message\n"
     ]
    }
   ],
   "source": [
    "print('this is an important message')"
   ]
  },
  {
   "cell_type": "code",
   "execution_count": 5,
   "metadata": {},
   "outputs": [
    {
     "name": "stdout",
     "output_type": "stream",
     "text": [
      "this is an 'important' message\n"
     ]
    }
   ],
   "source": [
    "print('this is an \\'important\\' message')"
   ]
  },
  {
   "cell_type": "code",
   "execution_count": 10,
   "metadata": {},
   "outputs": [
    {
     "name": "stdout",
     "output_type": "stream",
     "text": [
      "this is an \n",
      "important\n",
      " message\n"
     ]
    }
   ],
   "source": [
    "print('this is an \\nimportant\\n message')"
   ]
  },
  {
   "cell_type": "code",
   "execution_count": 6,
   "metadata": {},
   "outputs": [
    {
     "name": "stdout",
     "output_type": "stream",
     "text": [
      "this is an 'important' message\n"
     ]
    }
   ],
   "source": [
    "print(\"this is an 'important' message\")"
   ]
  },
  {
   "cell_type": "code",
   "execution_count": 8,
   "metadata": {},
   "outputs": [
    {
     "name": "stdout",
     "output_type": "stream",
     "text": [
      "gfajdb\n"
     ]
    }
   ],
   "source": [
    "name=input('enter your name:')\n",
    "print(name)"
   ]
  },
  {
   "cell_type": "code",
   "execution_count": 9,
   "metadata": {},
   "outputs": [
    {
     "name": "stdout",
     "output_type": "stream",
     "text": [
      "485948579473\n"
     ]
    }
   ],
   "source": [
    "x=str(485948579473)\n",
    "print(x)"
   ]
  },
  {
   "cell_type": "code",
   "execution_count": 11,
   "metadata": {},
   "outputs": [],
   "source": [
    "name='vijay deenanath chauhan'"
   ]
  },
  {
   "cell_type": "code",
   "execution_count": 12,
   "metadata": {},
   "outputs": [
    {
     "name": "stdout",
     "output_type": "stream",
     "text": [
      "v\n"
     ]
    }
   ],
   "source": [
    "print(name[0])"
   ]
  },
  {
   "cell_type": "code",
   "execution_count": 13,
   "metadata": {},
   "outputs": [
    {
     "name": "stdout",
     "output_type": "stream",
     "text": [
      "n\n"
     ]
    }
   ],
   "source": [
    "print(name[-1])"
   ]
  },
  {
   "cell_type": "code",
   "execution_count": 14,
   "metadata": {},
   "outputs": [
    {
     "name": "stdout",
     "output_type": "stream",
     "text": [
      "vijay\n"
     ]
    }
   ],
   "source": [
    "print(name[:5])"
   ]
  },
  {
   "cell_type": "code",
   "execution_count": 15,
   "metadata": {},
   "outputs": [
    {
     "name": "stdout",
     "output_type": "stream",
     "text": [
      "deenanath\n"
     ]
    }
   ],
   "source": [
    "print(name[6:-8])"
   ]
  },
  {
   "cell_type": "code",
   "execution_count": 16,
   "metadata": {},
   "outputs": [
    {
     "name": "stdout",
     "output_type": "stream",
     "text": [
      "deenanath\n"
     ]
    }
   ],
   "source": [
    "print(name[6:15])"
   ]
  },
  {
   "cell_type": "code",
   "execution_count": 17,
   "metadata": {},
   "outputs": [
    {
     "name": "stdout",
     "output_type": "stream",
     "text": [
      "chauhan\n"
     ]
    }
   ],
   "source": [
    "print(name[-7:])"
   ]
  },
  {
   "cell_type": "code",
   "execution_count": 18,
   "metadata": {},
   "outputs": [
    {
     "name": "stdout",
     "output_type": "stream",
     "text": [
      "nahuahc htananeed yajiv\n"
     ]
    }
   ],
   "source": [
    "print(name[::-1]) #reverse a sequence"
   ]
  },
  {
   "cell_type": "code",
   "execution_count": 19,
   "metadata": {},
   "outputs": [
    {
     "name": "stdout",
     "output_type": "stream",
     "text": [
      "vjydeaahcahn\n"
     ]
    }
   ],
   "source": [
    "print(name[::2]) #skip every second character\n"
   ]
  },
  {
   "cell_type": "code",
   "execution_count": 20,
   "metadata": {},
   "outputs": [
    {
     "name": "stdout",
     "output_type": "stream",
     "text": [
      "vjydeaahcahn\n"
     ]
    }
   ],
   "source": [
    "print(name[0:24:2])"
   ]
  },
  {
   "attachments": {},
   "cell_type": "markdown",
   "metadata": {},
   "source": [
    "tuples and strings are mutable\n",
    "and list set and dict are immutable"
   ]
  },
  {
   "cell_type": "code",
   "execution_count": 23,
   "metadata": {},
   "outputs": [
    {
     "name": "stdout",
     "output_type": "stream",
     "text": [
      "JOURNEY BEFORE DESTINATION\n"
     ]
    }
   ],
   "source": [
    "msg='Journey Before Destination'\n",
    "print(msg.upper())"
   ]
  },
  {
   "cell_type": "code",
   "execution_count": 24,
   "metadata": {},
   "outputs": [
    {
     "name": "stdout",
     "output_type": "stream",
     "text": [
      "journey before destination\n"
     ]
    }
   ],
   "source": [
    "print(msg.lower())"
   ]
  },
  {
   "cell_type": "code",
   "execution_count": 25,
   "metadata": {},
   "outputs": [
    {
     "name": "stdout",
     "output_type": "stream",
     "text": [
      "Journey Before Destination\n"
     ]
    }
   ],
   "source": [
    "print(msg.title())"
   ]
  },
  {
   "cell_type": "code",
   "execution_count": 26,
   "metadata": {},
   "outputs": [
    {
     "name": "stdout",
     "output_type": "stream",
     "text": [
      "Journey before destination\n"
     ]
    }
   ],
   "source": [
    "print(msg.capitalize())"
   ]
  },
  {
   "cell_type": "code",
   "execution_count": 27,
   "metadata": {},
   "outputs": [
    {
     "name": "stdout",
     "output_type": "stream",
     "text": [
      "journey before destination\n"
     ]
    }
   ],
   "source": [
    "print(msg.casefold())"
   ]
  },
  {
   "cell_type": "code",
   "execution_count": 28,
   "metadata": {},
   "outputs": [
    {
     "name": "stdout",
     "output_type": "stream",
     "text": [
      "jOURNEY bEFORE dESTINATION\n"
     ]
    }
   ],
   "source": [
    "print(msg.swapcase())"
   ]
  },
  {
   "cell_type": "code",
   "execution_count": 29,
   "metadata": {},
   "outputs": [
    {
     "name": "stdout",
     "output_type": "stream",
     "text": [
      "Journey Before Destination                                                                          \n"
     ]
    }
   ],
   "source": [
    "print(f'{msg:100}') #spacing of 100 characters"
   ]
  },
  {
   "cell_type": "code",
   "execution_count": 30,
   "metadata": {},
   "outputs": [
    {
     "name": "stdout",
     "output_type": "stream",
     "text": [
      "Journey Before Destination                                                                          \n"
     ]
    }
   ],
   "source": [
    "print(f'{msg:<100}') #left alignment"
   ]
  },
  {
   "cell_type": "code",
   "execution_count": 31,
   "metadata": {},
   "outputs": [
    {
     "name": "stdout",
     "output_type": "stream",
     "text": [
      "                                                                          Journey Before Destination\n"
     ]
    }
   ],
   "source": [
    "print(f'{msg:>100}') #right alignment"
   ]
  },
  {
   "cell_type": "code",
   "execution_count": 32,
   "metadata": {},
   "outputs": [
    {
     "name": "stdout",
     "output_type": "stream",
     "text": [
      "                                     Journey Before Destination                                     \n"
     ]
    }
   ],
   "source": [
    "print(f'{msg:^100}') #centre alignment"
   ]
  },
  {
   "cell_type": "code",
   "execution_count": 49,
   "metadata": {},
   "outputs": [
    {
     "name": "stdout",
     "output_type": "stream",
     "text": [
      "~~~~~~~~~~~~~~~~~~~~~~~~~~~~~~~~~~~~~Journey Before Destination~~~~~~~~~~~~~~~~~~~~~~~~~~~~~~~~~~~~~\n",
      "Journey Before Destination@@@@@@@@@@@@@@@@@@@@@@@@@@@@@@@@@@@@@@@@@@@@@@@@@@@@@@@@@@@@@@@@@@@@@@@@@@\n",
      "$$$$$$$$$$$$$$$$$$$$$$$$$$$$$$$$$$$$$$$$$$$$$$$$$$$$$$$$$$$$$$$$$$$$$$$$$$Journey Before Destination\n"
     ]
    }
   ],
   "source": [
    "print(msg.center(100, '~'))\n",
    "print(msg.ljust(100, '@'))\n",
    "print(msg.rjust(100, '$'))"
   ]
  },
  {
   "cell_type": "code",
   "execution_count": 33,
   "metadata": {},
   "outputs": [
    {
     "name": "stdout",
     "output_type": "stream",
     "text": [
      "1\n",
      "4\n",
      "9\n",
      "16\n",
      "25\n",
      "36\n",
      "49\n",
      "64\n",
      "81\n",
      "100\n",
      "121\n",
      "144\n",
      "169\n",
      "196\n",
      "225\n",
      "256\n",
      "289\n",
      "324\n",
      "361\n",
      "400\n"
     ]
    }
   ],
   "source": [
    "for i in range(1,21):\n",
    "    print(i**2)"
   ]
  },
  {
   "cell_type": "code",
   "execution_count": 35,
   "metadata": {},
   "outputs": [
    {
     "name": "stdout",
     "output_type": "stream",
     "text": [
      "num pow result\n",
      "1^2=1\n",
      "2^2=4\n",
      "3^2=9\n",
      "4^2=16\n",
      "5^2=25\n",
      "6^2=36\n",
      "7^2=49\n",
      "8^2=64\n",
      "9^2=81\n",
      "10^2=100\n",
      "11^2=121\n",
      "12^2=144\n",
      "13^2=169\n",
      "14^2=196\n",
      "15^2=225\n",
      "16^2=256\n",
      "17^2=289\n",
      "18^2=324\n",
      "19^2=361\n",
      "20^2=400\n"
     ]
    }
   ],
   "source": [
    "print('num pow result')\n",
    "for i in range(1,21):\n",
    "    print(f'{i}^2={i**2}')"
   ]
  },
  {
   "cell_type": "code",
   "execution_count": 37,
   "metadata": {},
   "outputs": [
    {
     "name": "stdout",
     "output_type": "stream",
     "text": [
      "num pow result\n",
      "  1  2=     1\n",
      "  2  2=     4\n",
      "  3  2=     9\n",
      "  4  2=    16\n",
      "  5  2=    25\n",
      "  6  2=    36\n",
      "  7  2=    49\n",
      "  8  2=    64\n",
      "  9  2=    81\n",
      " 10  2=   100\n",
      " 11  2=   121\n",
      " 12  2=   144\n",
      " 13  2=   169\n",
      " 14  2=   196\n",
      " 15  2=   225\n",
      " 16  2=   256\n",
      " 17  2=   289\n",
      " 18  2=   324\n",
      " 19  2=   361\n",
      " 20  2=   400\n"
     ]
    }
   ],
   "source": [
    "print('num pow result')\n",
    "for i in range(1,21):\n",
    "    print(f'{i:3}{2:3}={i**2:6}')"
   ]
  },
  {
   "cell_type": "code",
   "execution_count": 41,
   "metadata": {},
   "outputs": [
    {
     "name": "stdout",
     "output_type": "stream",
     "text": [
      "num pow result\n",
      "1   2   1     \n",
      "2   2   4     \n",
      "3   2   9     \n",
      "4   2   16    \n",
      "5   2   25    \n",
      "6   2   36    \n",
      "7   2   49    \n",
      "8   2   64    \n",
      "9   2   81    \n",
      "10  2   100   \n",
      "11  2   121   \n",
      "12  2   144   \n",
      "13  2   169   \n",
      "14  2   196   \n",
      "15  2   225   \n",
      "16  2   256   \n",
      "17  2   289   \n",
      "18  2   324   \n",
      "19  2   361   \n",
      "20  2   400   \n"
     ]
    }
   ],
   "source": [
    "print('num pow result')\n",
    "for i in range(1,21):\n",
    "    print(f'{i:<3} {2:<3} {i**2:<6}')"
   ]
  },
  {
   "attachments": {},
   "cell_type": "markdown",
   "metadata": {},
   "source": [
    "numbers are by default right aligned\n",
    "texts are ''''''''''''' left '''''''"
   ]
  },
  {
   "attachments": {},
   "cell_type": "markdown",
   "metadata": {},
   "source": [
    "validation methods are used to determine which type of charactrs are in the string"
   ]
  },
  {
   "cell_type": "code",
   "execution_count": 50,
   "metadata": {},
   "outputs": [
    {
     "name": "stdout",
     "output_type": "stream",
     "text": [
      "True\n",
      "True\n",
      "False\n"
     ]
    }
   ],
   "source": [
    "a='hello'\n",
    "print(a.isalpha())\n",
    "print(a.isalnum())\n",
    "print(a.isnumeric())"
   ]
  },
  {
   "cell_type": "code",
   "execution_count": 56,
   "metadata": {},
   "outputs": [
    {
     "name": "stdout",
     "output_type": "stream",
     "text": [
      "good job\n"
     ]
    }
   ],
   "source": [
    "num1 = input('enter a number:')\n",
    "if num1.isalpha():\n",
    "    print('we dont want alphabets')\n",
    "elif num1.isnumeric():\n",
    "    print('good job')\n",
    "    num1=int(num1)"
   ]
  },
  {
   "cell_type": "code",
   "execution_count": 59,
   "metadata": {},
   "outputs": [
    {
     "name": "stdout",
     "output_type": "stream",
     "text": [
      "without any designation\n"
     ]
    }
   ],
   "source": [
    "name= ' Watson'\n",
    "if name.startswith('Mr.'):\n",
    "    print('hello mister')\n",
    "elif name.startswith('Dr.'):\n",
    "    print('hello doctor')\n",
    "elif name.startswith('Er.'):\n",
    "    print('hello engineer')\n",
    "else:\n",
    "    print('without any designation')\n"
   ]
  },
  {
   "attachments": {},
   "cell_type": "markdown",
   "metadata": {},
   "source": [
    "functions in strings -"
   ]
  },
  {
   "cell_type": "code",
   "execution_count": 60,
   "metadata": {},
   "outputs": [
    {
     "data": {
      "text/plain": [
       "['Journey', 'Before', 'Destination']"
      ]
     },
     "execution_count": 60,
     "metadata": {},
     "output_type": "execute_result"
    }
   ],
   "source": [
    "msg.split()"
   ]
  },
  {
   "cell_type": "code",
   "execution_count": 61,
   "metadata": {},
   "outputs": [
    {
     "name": "stdout",
     "output_type": "stream",
     "text": [
      "['1-0,2-0,4-6,3-6,6-5']\n"
     ]
    }
   ],
   "source": [
    "data='1-0,2-0,4-6,3-6,6-5'\n",
    "score=data.split()\n",
    "print(score)"
   ]
  },
  {
   "cell_type": "code",
   "execution_count": 64,
   "metadata": {},
   "outputs": [
    {
     "name": "stdout",
     "output_type": "stream",
     "text": [
      "['1-0', '2-0', '4-6', '3-6', '6-5']\n"
     ]
    }
   ],
   "source": [
    "score=data.split(',')\n",
    "print(score)"
   ]
  },
  {
   "cell_type": "code",
   "execution_count": 73,
   "metadata": {},
   "outputs": [
    {
     "name": "stdout",
     "output_type": "stream",
     "text": [
      "1,2,3,4,5,6,7\n"
     ]
    }
   ],
   "source": [
    "user_values= input('enter values separated by comma')\n",
    "print(user_values)"
   ]
  },
  {
   "cell_type": "code",
   "execution_count": 74,
   "metadata": {},
   "outputs": [
    {
     "name": "stdout",
     "output_type": "stream",
     "text": [
      "['1', '2', '3', '4', '5', '6', '7']\n"
     ]
    }
   ],
   "source": [
    "print(user_values.split(','))"
   ]
  },
  {
   "cell_type": "code",
   "execution_count": 76,
   "metadata": {},
   "outputs": [
    {
     "data": {
      "text/plain": [
       "'hello this is a list'"
      ]
     },
     "execution_count": 76,
     "metadata": {},
     "output_type": "execute_result"
    }
   ],
   "source": [
    "values=['hello','this','is','a','list']\n",
    "\" \".join(values)"
   ]
  },
  {
   "cell_type": "code",
   "execution_count": 78,
   "metadata": {},
   "outputs": [],
   "source": [
    "message='this is an example, where we are using some words'"
   ]
  },
  {
   "cell_type": "code",
   "execution_count": 79,
   "metadata": {},
   "outputs": [
    {
     "data": {
      "text/plain": [
       "['this',\n",
       " 'is',\n",
       " 'an',\n",
       " 'example,',\n",
       " 'where',\n",
       " 'we',\n",
       " 'are',\n",
       " 'using',\n",
       " 'some',\n",
       " 'words']"
      ]
     },
     "execution_count": 79,
     "metadata": {},
     "output_type": "execute_result"
    }
   ],
   "source": [
    "message.split()"
   ]
  },
  {
   "cell_type": "code",
   "execution_count": 80,
   "metadata": {},
   "outputs": [
    {
     "data": {
      "text/plain": [
       "['this is an example', ' where we are using some words']"
      ]
     },
     "execution_count": 80,
     "metadata": {},
     "output_type": "execute_result"
    }
   ],
   "source": [
    "message.split(',') "
   ]
  },
  {
   "cell_type": "code",
   "execution_count": 83,
   "metadata": {},
   "outputs": [
    {
     "name": "stdout",
     "output_type": "stream",
     "text": [
      "this\n",
      "is\n",
      "an\n",
      "example,\n",
      "where\n",
      "we\n",
      "are\n",
      "using\n",
      "some\n",
      "words\n"
     ]
    }
   ],
   "source": [
    "words=message.split()\n",
    "for w in words:\n",
    "    print(w)"
   ]
  },
  {
   "cell_type": "code",
   "execution_count": 84,
   "metadata": {},
   "outputs": [
    {
     "data": {
      "text/plain": [
       "'this is an example, where we are using some words'"
      ]
     },
     "execution_count": 84,
     "metadata": {},
     "output_type": "execute_result"
    }
   ],
   "source": [
    "\" \".join(words)"
   ]
  },
  {
   "attachments": {},
   "cell_type": "markdown",
   "metadata": {},
   "source": [
    "find() method is used to find the starting index of the specified word"
   ]
  },
  {
   "cell_type": "code",
   "execution_count": 92,
   "metadata": {},
   "outputs": [
    {
     "name": "stdout",
     "output_type": "stream",
     "text": [
      "20\n",
      "26\n",
      "15\n",
      "-1\n",
      "8\n",
      "13\n"
     ]
    }
   ],
   "source": [
    "print(message.find('where'))\n",
    "print(message.find('we'))\n",
    "print(message.find('ple'))\n",
    "print(message.find('z'))\n",
    "print(message.find('a'))\n",
    "print(message.find('a',9))"
   ]
  },
  {
   "cell_type": "code",
   "execution_count": 93,
   "metadata": {},
   "outputs": [
    {
     "data": {
      "text/plain": [
       "'this is an eeeexampleeee, wheeeereeee weeee areeee using someeee words'"
      ]
     },
     "execution_count": 93,
     "metadata": {},
     "output_type": "execute_result"
    }
   ],
   "source": [
    "message.replace('e','eeee')"
   ]
  },
  {
   "cell_type": "code",
   "execution_count": 94,
   "metadata": {},
   "outputs": [
    {
     "data": {
      "text/plain": [
       "'this is a story, where we are using some words'"
      ]
     },
     "execution_count": 94,
     "metadata": {},
     "output_type": "execute_result"
    }
   ],
   "source": [
    "message.replace('an example','a story')"
   ]
  },
  {
   "cell_type": "code",
   "execution_count": 95,
   "metadata": {},
   "outputs": [
    {
     "data": {
      "text/plain": [
       "'this is a story, where we are using some sentences'"
      ]
     },
     "execution_count": 95,
     "metadata": {},
     "output_type": "execute_result"
    }
   ],
   "source": [
    "message.replace('an example','a story').replace('words','sentences')"
   ]
  },
  {
   "cell_type": "code",
   "execution_count": 96,
   "metadata": {},
   "outputs": [
    {
     "name": "stdout",
     "output_type": "stream",
     "text": [
      "this is a story, where we are using some words\n"
     ]
    }
   ],
   "source": [
    "message=message.replace('an example','a story')\n",
    "print(message)"
   ]
  },
  {
   "cell_type": "code",
   "execution_count": 97,
   "metadata": {},
   "outputs": [
    {
     "data": {
      "text/plain": [
       "'this is a story, whr w are using some words'"
      ]
     },
     "execution_count": 97,
     "metadata": {},
     "output_type": "execute_result"
    }
   ],
   "source": [
    "message.replace('e','',3)"
   ]
  },
  {
   "cell_type": "code",
   "execution_count": 99,
   "metadata": {},
   "outputs": [
    {
     "data": {
      "text/plain": [
       "'alex johnny yes papa, eating sugar no papa'"
      ]
     },
     "execution_count": 99,
     "metadata": {},
     "output_type": "execute_result"
    }
   ],
   "source": [
    "poem='johnny johnny yes papa, eating sugar no papa'\n",
    "poem.replace('johnny','alex',1)"
   ]
  },
  {
   "cell_type": "code",
   "execution_count": 100,
   "metadata": {},
   "outputs": [
    {
     "name": "stdout",
     "output_type": "stream",
     "text": [
      "example is used 3 times\n"
     ]
    }
   ],
   "source": [
    "message='this is an example where another example is used to show an example'\n",
    "ce=message.count('example')\n",
    "print(f'example is used {ce} times')"
   ]
  },
  {
   "attachments": {},
   "cell_type": "markdown",
   "metadata": {},
   "source": [
    "when variable = variable tis means we want to update original variable"
   ]
  },
  {
   "cell_type": "code",
   "execution_count": 102,
   "metadata": {},
   "outputs": [
    {
     "name": "stdout",
     "output_type": "stream",
     "text": [
      "found\n"
     ]
    }
   ],
   "source": [
    "uinp=input('enter a message')\n",
    "for char in uinp:\n",
    "    if char.isupper():\n",
    "        print('found')\n",
    "        break"
   ]
  },
  {
   "cell_type": "code",
   "execution_count": 104,
   "metadata": {},
   "outputs": [
    {
     "name": "stdout",
     "output_type": "stream",
     "text": [
      "p34yt68h0h404\n"
     ]
    }
   ],
   "source": [
    "from string import punctuation\n",
    "text='%p34@y!-!t68h#&0h404'\n",
    "for char in punctuation:\n",
    "    text=text.replace(char,'')\n",
    "print(text)"
   ]
  },
  {
   "cell_type": "code",
   "execution_count": null,
   "metadata": {},
   "outputs": [],
   "source": [
    "msg='this is a paragraph which is just for the purpose of providing content to let the '\n",
    "words=msg.split()\n",
    "print(words)\n",
    "lenghts=[len(word) for word in words]\n",
    "print(lenghts)\n",
    "print('avg word lengths:',sum(lengths))\n"
   ]
  }
 ],
 "metadata": {
  "kernelspec": {
   "display_name": "base",
   "language": "python",
   "name": "python3"
  },
  "language_info": {
   "codemirror_mode": {
    "name": "ipython",
    "version": 3
   },
   "file_extension": ".py",
   "mimetype": "text/x-python",
   "name": "python",
   "nbconvert_exporter": "python",
   "pygments_lexer": "ipython3",
   "version": "3.10.10"
  },
  "orig_nbformat": 4
 },
 "nbformat": 4,
 "nbformat_minor": 2
}
