{
 "cells": [
  {
   "attachments": {},
   "cell_type": "markdown",
   "metadata": {},
   "source": [
    "STRINGS\n",
    "-creating\n",
    "-indexing\n",
    "-slicing\n",
    "-methods\n",
    "        -formatting methods\n",
    "        -validation methods\n",
    "        -utility methods"
   ]
  },
  {
   "cell_type": "code",
   "execution_count": 2,
   "metadata": {},
   "outputs": [],
   "source": [
    "a='hello'\n",
    "b=\"hola\"\n",
    "c='''this is a \n",
    "multiline message from\n",
    "the past'''"
   ]
  },
  {
   "cell_type": "code",
   "execution_count": 3,
   "metadata": {},
   "outputs": [
    {
     "data": {
      "text/plain": [
       "'this is an important message'"
      ]
     },
     "execution_count": 3,
     "metadata": {},
     "output_type": "execute_result"
    }
   ],
   "source": [
    "'this is an important message'"
   ]
  },
  {
   "cell_type": "code",
   "execution_count": 4,
   "metadata": {},
   "outputs": [
    {
     "name": "stdout",
     "output_type": "stream",
     "text": [
      "this is an important message\n"
     ]
    }
   ],
   "source": [
    "print('this is an important message')"
   ]
  },
  {
   "cell_type": "code",
   "execution_count": 5,
   "metadata": {},
   "outputs": [
    {
     "name": "stdout",
     "output_type": "stream",
     "text": [
      "this is an 'important' message\n"
     ]
    }
   ],
   "source": [
    "print('this is an \\'important\\' message')"
   ]
  },
  {
   "cell_type": "code",
   "execution_count": 10,
   "metadata": {},
   "outputs": [
    {
     "name": "stdout",
     "output_type": "stream",
     "text": [
      "this is an \n",
      "important\n",
      " message\n"
     ]
    }
   ],
   "source": [
    "print('this is an \\nimportant\\n message')"
   ]
  },
  {
   "cell_type": "code",
   "execution_count": 6,
   "metadata": {},
   "outputs": [
    {
     "name": "stdout",
     "output_type": "stream",
     "text": [
      "this is an 'important' message\n"
     ]
    }
   ],
   "source": [
    "print(\"this is an 'important' message\")"
   ]
  },
  {
   "cell_type": "code",
   "execution_count": 8,
   "metadata": {},
   "outputs": [
    {
     "name": "stdout",
     "output_type": "stream",
     "text": [
      "gfajdb\n"
     ]
    }
   ],
   "source": [
    "name=input('enter your name:')\n",
    "print(name)"
   ]
  },
  {
   "cell_type": "code",
   "execution_count": 9,
   "metadata": {},
   "outputs": [
    {
     "name": "stdout",
     "output_type": "stream",
     "text": [
      "485948579473\n"
     ]
    }
   ],
   "source": [
    "x=str(485948579473)\n",
    "print(x)"
   ]
  },
  {
   "cell_type": "code",
   "execution_count": 11,
   "metadata": {},
   "outputs": [],
   "source": [
    "name='vijay deenanath chauhan'"
   ]
  },
  {
   "cell_type": "code",
   "execution_count": 12,
   "metadata": {},
   "outputs": [
    {
     "name": "stdout",
     "output_type": "stream",
     "text": [
      "v\n"
     ]
    }
   ],
   "source": [
    "print(name[0])"
   ]
  },
  {
   "cell_type": "code",
   "execution_count": 13,
   "metadata": {},
   "outputs": [
    {
     "name": "stdout",
     "output_type": "stream",
     "text": [
      "n\n"
     ]
    }
   ],
   "source": [
    "print(name[-1])"
   ]
  },
  {
   "cell_type": "code",
   "execution_count": 14,
   "metadata": {},
   "outputs": [
    {
     "name": "stdout",
     "output_type": "stream",
     "text": [
      "vijay\n"
     ]
    }
   ],
   "source": [
    "print(name[:5])"
   ]
  },
  {
   "cell_type": "code",
   "execution_count": 15,
   "metadata": {},
   "outputs": [
    {
     "name": "stdout",
     "output_type": "stream",
     "text": [
      "deenanath\n"
     ]
    }
   ],
   "source": [
    "print(name[6:-8])"
   ]
  },
  {
   "cell_type": "code",
   "execution_count": 16,
   "metadata": {},
   "outputs": [
    {
     "name": "stdout",
     "output_type": "stream",
     "text": [
      "deenanath\n"
     ]
    }
   ],
   "source": [
    "print(name[6:15])"
   ]
  },
  {
   "cell_type": "code",
   "execution_count": 17,
   "metadata": {},
   "outputs": [
    {
     "name": "stdout",
     "output_type": "stream",
     "text": [
      "chauhan\n"
     ]
    }
   ],
   "source": [
    "print(name[-7:])"
   ]
  },
  {
   "cell_type": "code",
   "execution_count": 18,
   "metadata": {},
   "outputs": [
    {
     "name": "stdout",
     "output_type": "stream",
     "text": [
      "nahuahc htananeed yajiv\n"
     ]
    }
   ],
   "source": [
    "print(name[::-1]) #reverse a sequence"
   ]
  },
  {
   "cell_type": "code",
   "execution_count": 19,
   "metadata": {},
   "outputs": [
    {
     "name": "stdout",
     "output_type": "stream",
     "text": [
      "vjydeaahcahn\n"
     ]
    }
   ],
   "source": [
    "print(name[::2]) #skip every second character\n"
   ]
  },
  {
   "cell_type": "code",
   "execution_count": 20,
   "metadata": {},
   "outputs": [
    {
     "name": "stdout",
     "output_type": "stream",
     "text": [
      "vjydeaahcahn\n"
     ]
    }
   ],
   "source": [
    "print(name[0:24:2])"
   ]
  },
  {
   "attachments": {},
   "cell_type": "markdown",
   "metadata": {},
   "source": [
    "tuples and strings are mutable\n",
    "and list set and dict are immutable"
   ]
  },
  {
   "cell_type": "code",
   "execution_count": 23,
   "metadata": {},
   "outputs": [
    {
     "name": "stdout",
     "output_type": "stream",
     "text": [
      "JOURNEY BEFORE DESTINATION\n"
     ]
    }
   ],
   "source": [
    "msg='Journey Before Destination'\n",
    "print(msg.upper())"
   ]
  },
  {
   "cell_type": "code",
   "execution_count": 24,
   "metadata": {},
   "outputs": [
    {
     "name": "stdout",
     "output_type": "stream",
     "text": [
      "journey before destination\n"
     ]
    }
   ],
   "source": [
    "print(msg.lower())"
   ]
  },
  {
   "cell_type": "code",
   "execution_count": 25,
   "metadata": {},
   "outputs": [
    {
     "name": "stdout",
     "output_type": "stream",
     "text": [
      "Journey Before Destination\n"
     ]
    }
   ],
   "source": [
    "print(msg.title())"
   ]
  },
  {
   "cell_type": "code",
   "execution_count": 26,
   "metadata": {},
   "outputs": [
    {
     "name": "stdout",
     "output_type": "stream",
     "text": [
      "Journey before destination\n"
     ]
    }
   ],
   "source": [
    "print(msg.capitalize())"
   ]
  },
  {
   "cell_type": "code",
   "execution_count": 27,
   "metadata": {},
   "outputs": [
    {
     "name": "stdout",
     "output_type": "stream",
     "text": [
      "journey before destination\n"
     ]
    }
   ],
   "source": [
    "print(msg.casefold())"
   ]
  },
  {
   "cell_type": "code",
   "execution_count": 28,
   "metadata": {},
   "outputs": [
    {
     "name": "stdout",
     "output_type": "stream",
     "text": [
      "jOURNEY bEFORE dESTINATION\n"
     ]
    }
   ],
   "source": [
    "print(msg.swapcase())"
   ]
  },
  {
   "cell_type": "code",
   "execution_count": 29,
   "metadata": {},
   "outputs": [
    {
     "name": "stdout",
     "output_type": "stream",
     "text": [
      "Journey Before Destination                                                                          \n"
     ]
    }
   ],
   "source": [
    "print(f'{msg:100}') #spacing of 100 characters"
   ]
  },
  {
   "cell_type": "code",
   "execution_count": 30,
   "metadata": {},
   "outputs": [
    {
     "name": "stdout",
     "output_type": "stream",
     "text": [
      "Journey Before Destination                                                                          \n"
     ]
    }
   ],
   "source": [
    "print(f'{msg:<100}') #left alignment"
   ]
  },
  {
   "cell_type": "code",
   "execution_count": 31,
   "metadata": {},
   "outputs": [
    {
     "name": "stdout",
     "output_type": "stream",
     "text": [
      "                                                                          Journey Before Destination\n"
     ]
    }
   ],
   "source": [
    "print(f'{msg:>100}') #right alignment"
   ]
  },
  {
   "cell_type": "code",
   "execution_count": 32,
   "metadata": {},
   "outputs": [
    {
     "name": "stdout",
     "output_type": "stream",
     "text": [
      "                                     Journey Before Destination                                     \n"
     ]
    }
   ],
   "source": [
    "print(f'{msg:^100}') #centre alignment"
   ]
  },
  {
   "cell_type": "code",
   "execution_count": 49,
   "metadata": {},
   "outputs": [
    {
     "name": "stdout",
     "output_type": "stream",
     "text": [
      "~~~~~~~~~~~~~~~~~~~~~~~~~~~~~~~~~~~~~Journey Before Destination~~~~~~~~~~~~~~~~~~~~~~~~~~~~~~~~~~~~~\n",
      "Journey Before Destination@@@@@@@@@@@@@@@@@@@@@@@@@@@@@@@@@@@@@@@@@@@@@@@@@@@@@@@@@@@@@@@@@@@@@@@@@@\n",
      "$$$$$$$$$$$$$$$$$$$$$$$$$$$$$$$$$$$$$$$$$$$$$$$$$$$$$$$$$$$$$$$$$$$$$$$$$$Journey Before Destination\n"
     ]
    }
   ],
   "source": [
    "print(msg.center(100, '~'))\n",
    "print(msg.ljust(100, '@'))\n",
    "print(msg.rjust(100, '$'))"
   ]
  },
  {
   "cell_type": "code",
   "execution_count": 33,
   "metadata": {},
   "outputs": [
    {
     "name": "stdout",
     "output_type": "stream",
     "text": [
      "1\n",
      "4\n",
      "9\n",
      "16\n",
      "25\n",
      "36\n",
      "49\n",
      "64\n",
      "81\n",
      "100\n",
      "121\n",
      "144\n",
      "169\n",
      "196\n",
      "225\n",
      "256\n",
      "289\n",
      "324\n",
      "361\n",
      "400\n"
     ]
    }
   ],
   "source": [
    "for i in range(1,21):\n",
    "    print(i**2)"
   ]
  },
  {
   "cell_type": "code",
   "execution_count": 35,
   "metadata": {},
   "outputs": [
    {
     "name": "stdout",
     "output_type": "stream",
     "text": [
      "num pow result\n",
      "1^2=1\n",
      "2^2=4\n",
      "3^2=9\n",
      "4^2=16\n",
      "5^2=25\n",
      "6^2=36\n",
      "7^2=49\n",
      "8^2=64\n",
      "9^2=81\n",
      "10^2=100\n",
      "11^2=121\n",
      "12^2=144\n",
      "13^2=169\n",
      "14^2=196\n",
      "15^2=225\n",
      "16^2=256\n",
      "17^2=289\n",
      "18^2=324\n",
      "19^2=361\n",
      "20^2=400\n"
     ]
    }
   ],
   "source": [
    "print('num pow result')\n",
    "for i in range(1,21):\n",
    "    print(f'{i}^2={i**2}')"
   ]
  },
  {
   "cell_type": "code",
   "execution_count": 37,
   "metadata": {},
   "outputs": [
    {
     "name": "stdout",
     "output_type": "stream",
     "text": [
      "num pow result\n",
      "  1  2=     1\n",
      "  2  2=     4\n",
      "  3  2=     9\n",
      "  4  2=    16\n",
      "  5  2=    25\n",
      "  6  2=    36\n",
      "  7  2=    49\n",
      "  8  2=    64\n",
      "  9  2=    81\n",
      " 10  2=   100\n",
      " 11  2=   121\n",
      " 12  2=   144\n",
      " 13  2=   169\n",
      " 14  2=   196\n",
      " 15  2=   225\n",
      " 16  2=   256\n",
      " 17  2=   289\n",
      " 18  2=   324\n",
      " 19  2=   361\n",
      " 20  2=   400\n"
     ]
    }
   ],
   "source": [
    "print('num pow result')\n",
    "for i in range(1,21):\n",
    "    print(f'{i:3}{2:3}={i**2:6}')"
   ]
  },
  {
   "cell_type": "code",
   "execution_count": 41,
   "metadata": {},
   "outputs": [
    {
     "name": "stdout",
     "output_type": "stream",
     "text": [
      "num pow result\n",
      "1   2   1     \n",
      "2   2   4     \n",
      "3   2   9     \n",
      "4   2   16    \n",
      "5   2   25    \n",
      "6   2   36    \n",
      "7   2   49    \n",
      "8   2   64    \n",
      "9   2   81    \n",
      "10  2   100   \n",
      "11  2   121   \n",
      "12  2   144   \n",
      "13  2   169   \n",
      "14  2   196   \n",
      "15  2   225   \n",
      "16  2   256   \n",
      "17  2   289   \n",
      "18  2   324   \n",
      "19  2   361   \n",
      "20  2   400   \n"
     ]
    }
   ],
   "source": [
    "print('num pow result')\n",
    "for i in range(1,21):\n",
    "    print(f'{i:<3} {2:<3} {i**2:<6}')"
   ]
  },
  {
   "attachments": {},
   "cell_type": "markdown",
   "metadata": {},
   "source": [
    "numbers are by default right aligned\n",
    "texts are ''''''''''''' left '''''''"
   ]
  },
  {
   "attachments": {},
   "cell_type": "markdown",
   "metadata": {},
   "source": [
    "validation methods are used to determine which type of charactrs are in the string"
   ]
  },
  {
   "cell_type": "code",
   "execution_count": 50,
   "metadata": {},
   "outputs": [
    {
     "name": "stdout",
     "output_type": "stream",
     "text": [
      "True\n",
      "True\n",
      "False\n"
     ]
    }
   ],
   "source": [
    "a='hello'\n",
    "print(a.isalpha())\n",
    "print(a.isalnum())\n",
    "print(a.isnumeric())"
   ]
  },
  {
   "cell_type": "code",
   "execution_count": 56,
   "metadata": {},
   "outputs": [
    {
     "name": "stdout",
     "output_type": "stream",
     "text": [
      "good job\n"
     ]
    }
   ],
   "source": [
    "num1 = input('enter a number:')\n",
    "if num1.isalpha():\n",
    "    print('we dont want alphabets')\n",
    "elif num1.isnumeric():\n",
    "    print('good job')\n",
    "    num1=int(num1)"
   ]
  },
  {
   "cell_type": "code",
   "execution_count": 59,
   "metadata": {},
   "outputs": [
    {
     "name": "stdout",
     "output_type": "stream",
     "text": [
      "without any designation\n"
     ]
    }
   ],
   "source": [
    "name= ' Watson'\n",
    "if name.startswith('Mr.'):\n",
    "    print('hello mister')\n",
    "elif name.startswith('Dr.'):\n",
    "    print('hello doctor')\n",
    "elif name.startswith('Er.'):\n",
    "    print('hello engineer')\n",
    "else:\n",
    "    print('without any designation')\n"
   ]
  },
  {
   "attachments": {},
   "cell_type": "markdown",
   "metadata": {},
   "source": [
    "functions in strings -"
   ]
  },
  {
   "cell_type": "code",
   "execution_count": 60,
   "metadata": {},
   "outputs": [
    {
     "data": {
      "text/plain": [
       "['Journey', 'Before', 'Destination']"
      ]
     },
     "execution_count": 60,
     "metadata": {},
     "output_type": "execute_result"
    }
   ],
   "source": [
    "msg.split()"
   ]
  },
  {
   "cell_type": "code",
   "execution_count": 61,
   "metadata": {},
   "outputs": [
    {
     "name": "stdout",
     "output_type": "stream",
     "text": [
      "['1-0,2-0,4-6,3-6,6-5']\n"
     ]
    }
   ],
   "source": [
    "data='1-0,2-0,4-6,3-6,6-5'\n",
    "score=data.split()\n",
    "print(score)"
   ]
  },
  {
   "cell_type": "code",
   "execution_count": 64,
   "metadata": {},
   "outputs": [
    {
     "name": "stdout",
     "output_type": "stream",
     "text": [
      "['1-0', '2-0', '4-6', '3-6', '6-5']\n"
     ]
    }
   ],
   "source": [
    "score=data.split(',')\n",
    "print(score)"
   ]
  },
  {
   "cell_type": "code",
   "execution_count": 73,
   "metadata": {},
   "outputs": [
    {
     "name": "stdout",
     "output_type": "stream",
     "text": [
      "1,2,3,4,5,6,7\n"
     ]
    }
   ],
   "source": [
    "user_values= input('enter values separated by comma')\n",
    "print(user_values)"
   ]
  },
  {
   "cell_type": "code",
   "execution_count": 74,
   "metadata": {},
   "outputs": [
    {
     "name": "stdout",
     "output_type": "stream",
     "text": [
      "['1', '2', '3', '4', '5', '6', '7']\n"
     ]
    }
   ],
   "source": [
    "print(user_values.split(','))"
   ]
  },
  {
   "cell_type": "code",
   "execution_count": 76,
   "metadata": {},
   "outputs": [
    {
     "data": {
      "text/plain": [
       "'hello this is a list'"
      ]
     },
     "execution_count": 76,
     "metadata": {},
     "output_type": "execute_result"
    }
   ],
   "source": [
    "values=['hello','this','is','a','list']\n",
    "\" \".join(values)"
   ]
  },
  {
   "cell_type": "code",
   "execution_count": null,
   "metadata": {},
   "outputs": [],
   "source": []
  }
 ],
 "metadata": {
  "kernelspec": {
   "display_name": "base",
   "language": "python",
   "name": "python3"
  },
  "language_info": {
   "codemirror_mode": {
    "name": "ipython",
    "version": 3
   },
   "file_extension": ".py",
   "mimetype": "text/x-python",
   "name": "python",
   "nbconvert_exporter": "python",
   "pygments_lexer": "ipython3",
   "version": "3.10.10"
  },
  "orig_nbformat": 4
 },
 "nbformat": 4,
 "nbformat_minor": 2
}
