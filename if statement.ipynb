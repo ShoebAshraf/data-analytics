{
 "cells": [
  {
   "cell_type": "code",
   "execution_count": 1,
   "metadata": {},
   "outputs": [
    {
     "name": "stdout",
     "output_type": "stream",
     "text": [
      "a is less than b\n",
      "a is less than c\n",
      "b is less than c\n"
     ]
    }
   ],
   "source": [
    "a=5\n",
    "b=10\n",
    "c=15\n",
    "if a<b:\n",
    "    print(\"a is less than b\")\n",
    "if a<c:\n",
    "    print('a is less than c')\n",
    "if b<c:\n",
    "    print('b is less than c')\n",
    "if c<a:\n",
    "    print('c is less than a') \n",
    "if c<b:\n",
    "    print('c is less than b')\n",
    "               \n"
   ]
  },
  {
   "cell_type": "code",
   "execution_count": 2,
   "metadata": {},
   "outputs": [
    {
     "name": "stdout",
     "output_type": "stream",
     "text": [
      "a is less than b\n"
     ]
    }
   ],
   "source": [
    "a=5\n",
    "b=10\n",
    "c=15\n",
    "if a<b:\n",
    "    print('a is less than b')\n",
    "elif a<c:\n",
    "    print('a is less than c')\n",
    "elif b<c:\n",
    "    print('b is less than c')\n",
    "elif c<a:\n",
    "    print('c is less than a')\n",
    "elif c<b:\n",
    "    print('c is less than b')\n",
    "else:\n",
    "    print('nothing is true')"
   ]
  },
  {
   "cell_type": "code",
   "execution_count": 3,
   "metadata": {},
   "outputs": [
    {
     "name": "stdout",
     "output_type": "stream",
     "text": [
      "c is less than a\n"
     ]
    }
   ],
   "source": [
    "a=5\n",
    "b=10\n",
    "c=15\n",
    "if a>b:\n",
    "    print('a is less than b')\n",
    "elif a>c:\n",
    "    print('a is less than c')\n",
    "elif b<c:\n",
    "    print('b is less than c')\n",
    "elif c<a:\n",
    "    print('c is less than a')\n",
    "elif c>b:\n",
    "    print('c is less than b')\n",
    "else:\n",
    "    print('nothing is true')"
   ]
  },
  {
   "cell_type": "code",
   "execution_count": 6,
   "metadata": {},
   "outputs": [
    {
     "name": "stdout",
     "output_type": "stream",
     "text": [
      "number is odd\n"
     ]
    }
   ],
   "source": [
    "x=int(input('enter a numner:'))\n",
    "if(x%2==0):\n",
    "    print('number is even')\n",
    "else:\n",
    "    print('number is odd')"
   ]
  },
  {
   "cell_type": "code",
   "execution_count": 7,
   "metadata": {},
   "outputs": [
    {
     "name": "stdout",
     "output_type": "stream",
     "text": [
      "number is positive\n"
     ]
    }
   ],
   "source": [
    "x=int(input('enter a number:'))\n",
    "if x<0:\n",
    "    print('number is negative')\n",
    "else:\n",
    "    print('number is positive')"
   ]
  },
  {
   "cell_type": "code",
   "execution_count": 10,
   "metadata": {},
   "outputs": [
    {
     "name": "stdout",
     "output_type": "stream",
     "text": [
      "success😊\n"
     ]
    }
   ],
   "source": [
    "username=input('enter your username:')\n",
    "email=input('enter your email:')\n",
    "pwd=input('enter your password')\n",
    "pwd2=input('enter your password again')\n",
    "if len(username)>=4 and len(username)<=15:\n",
    "    if '@' in email and email.islower() and len(email)>10:\n",
    "        if len(pwd)>=6 and pwd!=username:\n",
    "            if pwd==pwd2:\n",
    "                print('success😊')\n",
    "            else:\n",
    "                print(\"password doesn't match😢\")\n",
    "        else:\n",
    "            print('password is invalid 🤦‍♂️')\n",
    "    else:\n",
    "        print('email is invalid')\n",
    "else:\n",
    "    print('username is invalid')"
   ]
  },
  {
   "attachments": {},
   "cell_type": "markdown",
   "metadata": {},
   "source": [
    "list and tuple have some built in functions\n",
    "here len() and islower()are built in fn."
   ]
  },
  {
   "cell_type": "code",
   "execution_count": 12,
   "metadata": {},
   "outputs": [
    {
     "name": "stdout",
     "output_type": "stream",
     "text": [
      "eligible to vote\n"
     ]
    }
   ],
   "source": [
    "age = int(input(\"enter age of the person:\"))\n",
    "if age>18:\n",
    "    print('eligible to vote')\n",
    "else:\n",
    "    print('not eligible to vote')"
   ]
  },
  {
   "cell_type": "code",
   "execution_count": 17,
   "metadata": {},
   "outputs": [
    {
     "name": "stdout",
     "output_type": "stream",
     "text": [
      "triangle is isosceles\n"
     ]
    }
   ],
   "source": [
    "side1=int(input('enter 1st side:'))\n",
    "side2=int(input('enter 2nd side'))\n",
    "side3=int(input('enter 3rd side'))\n",
    "if side1==side2 and side1!=side3 or side1==side3 and side1!=side2 or side2==side3 and side2!=side1:\n",
    "    print(\"triangle is isosceles\")\n",
    "elif side1==side2==side3:\n",
    "    print('triangle is equilateral')\n",
    "else:\n",
    "    print('triangle is scalene')\n"
   ]
  },
  {
   "cell_type": "code",
   "execution_count": null,
   "metadata": {},
   "outputs": [],
   "source": []
  }
 ],
 "metadata": {
  "kernelspec": {
   "display_name": "base",
   "language": "python",
   "name": "python3"
  },
  "language_info": {
   "codemirror_mode": {
    "name": "ipython",
    "version": 3
   },
   "file_extension": ".py",
   "mimetype": "text/x-python",
   "name": "python",
   "nbconvert_exporter": "python",
   "pygments_lexer": "ipython3",
   "version": "3.10.10"
  },
  "orig_nbformat": 4
 },
 "nbformat": 4,
 "nbformat_minor": 2
}
