{
 "cells": [
  {
   "attachments": {},
   "cell_type": "markdown",
   "metadata": {},
   "source": [
    "normal code"
   ]
  },
  {
   "cell_type": "code",
   "execution_count": 1,
   "metadata": {},
   "outputs": [
    {
     "name": "stdout",
     "output_type": "stream",
     "text": [
      "[1, 2, 3, 4, 5, 6, 7, 8, 9, 10]\n",
      "[1, 4, 9, 16, 25, 36, 49, 64, 81, 100]\n"
     ]
    }
   ],
   "source": [
    "a=[1,2,3,4,5,6,7,8,9,10]\n",
    "a2=[]\n",
    "for i in a:\n",
    "    a2.append(i**2)\n",
    "print(a)\n",
    "print(a2)"
   ]
  },
  {
   "cell_type": "code",
   "execution_count": 2,
   "metadata": {},
   "outputs": [
    {
     "name": "stdout",
     "output_type": "stream",
     "text": [
      "[1, 8, 27, 64, 125, 216, 343, 512, 729, 1000]\n"
     ]
    }
   ],
   "source": [
    "a3=[i**3 for i in a]\n",
    "print(a3)"
   ]
  },
  {
   "attachments": {},
   "cell_type": "markdown",
   "metadata": {},
   "source": [
    "newlist=[operation loop condition]"
   ]
  },
  {
   "attachments": {},
   "cell_type": "markdown",
   "metadata": {},
   "source": [
    "comprehension code"
   ]
  },
  {
   "cell_type": "code",
   "execution_count": 4,
   "metadata": {},
   "outputs": [
    {
     "name": "stdout",
     "output_type": "stream",
     "text": [
      "[1, 8, 27, 64, 125, 216, 343, 512, 729, 1000]\n"
     ]
    }
   ],
   "source": [
    "a3=[i**3 for i in a]\n",
    "print(a3)"
   ]
  },
  {
   "attachments": {},
   "cell_type": "markdown",
   "metadata": {},
   "source": [
    "comprehension makes our code smaller and simpler"
   ]
  },
  {
   "attachments": {},
   "cell_type": "markdown",
   "metadata": {},
   "source": [
    "create a list of five names, then use comprehension to create another list that will contain only first letter from each name"
   ]
  },
  {
   "attachments": {},
   "cell_type": "markdown",
   "metadata": {},
   "source": [
    "common code"
   ]
  },
  {
   "cell_type": "code",
   "execution_count": 11,
   "metadata": {},
   "outputs": [
    {
     "name": "stdout",
     "output_type": "stream",
     "text": [
      "[11, 2, 5, 3, 2, 12, 16, 8, 21, 56, 23, 6]\n",
      "[1.0, 1.0, 6.0, 8.0, 4.0, 28.0, 3.0]\n"
     ]
    }
   ],
   "source": [
    "b=[11,2,5,3,2,12,16,8,21,56,23,6]\n",
    "b2=[]\n",
    "for i in b:\n",
    "    if i%2 ==0:\n",
    "        b2.append(i/2)\n",
    "print(b)\n",
    "print(b2)"
   ]
  },
  {
   "attachments": {},
   "cell_type": "markdown",
   "metadata": {},
   "source": [
    "comprehension code"
   ]
  },
  {
   "cell_type": "code",
   "execution_count": 12,
   "metadata": {},
   "outputs": [
    {
     "name": "stdout",
     "output_type": "stream",
     "text": [
      "[1.0, 1.0, 6.0, 8.0, 4.0, 28.0, 3.0]\n"
     ]
    }
   ],
   "source": [
    "b3=[i/2 for i in b if i%2==0]\n",
    "print(b3)"
   ]
  },
  {
   "cell_type": "code",
   "execution_count": 9,
   "metadata": {},
   "outputs": [
    {
     "ename": "ValueError",
     "evalue": "0 is not in list",
     "output_type": "error",
     "traceback": [
      "\u001b[1;31m---------------------------------------------------------------------------\u001b[0m",
      "\u001b[1;31mValueError\u001b[0m                                Traceback (most recent call last)",
      "Cell \u001b[1;32mIn[9], line 2\u001b[0m\n\u001b[0;32m      1\u001b[0m name\u001b[39m=\u001b[39m[\u001b[39m'\u001b[39m\u001b[39mshoeb\u001b[39m\u001b[39m'\u001b[39m,\u001b[39m'\u001b[39m\u001b[39mrandhir\u001b[39m\u001b[39m'\u001b[39m,\u001b[39m'\u001b[39m\u001b[39mmanoj\u001b[39m\u001b[39m'\u001b[39m,\u001b[39m'\u001b[39m\u001b[39mshivam\u001b[39m\u001b[39m'\u001b[39m,\u001b[39m'\u001b[39m\u001b[39matul\u001b[39m\u001b[39m'\u001b[39m]\n\u001b[1;32m----> 2\u001b[0m name2\u001b[39m=\u001b[39m[i\u001b[39m==\u001b[39mname\u001b[39m.\u001b[39mindex(\u001b[39m0\u001b[39m) \u001b[39mfor\u001b[39;00m i \u001b[39min\u001b[39;00m name]\n",
      "Cell \u001b[1;32mIn[9], line 2\u001b[0m, in \u001b[0;36m<listcomp>\u001b[1;34m(.0)\u001b[0m\n\u001b[0;32m      1\u001b[0m name\u001b[39m=\u001b[39m[\u001b[39m'\u001b[39m\u001b[39mshoeb\u001b[39m\u001b[39m'\u001b[39m,\u001b[39m'\u001b[39m\u001b[39mrandhir\u001b[39m\u001b[39m'\u001b[39m,\u001b[39m'\u001b[39m\u001b[39mmanoj\u001b[39m\u001b[39m'\u001b[39m,\u001b[39m'\u001b[39m\u001b[39mshivam\u001b[39m\u001b[39m'\u001b[39m,\u001b[39m'\u001b[39m\u001b[39matul\u001b[39m\u001b[39m'\u001b[39m]\n\u001b[1;32m----> 2\u001b[0m name2\u001b[39m=\u001b[39m[i\u001b[39m==\u001b[39mname\u001b[39m.\u001b[39;49mindex(\u001b[39m0\u001b[39;49m) \u001b[39mfor\u001b[39;00m i \u001b[39min\u001b[39;00m name]\n",
      "\u001b[1;31mValueError\u001b[0m: 0 is not in list"
     ]
    }
   ],
   "source": [
    "name=['shoeb','randhir','manoj','shivam','atul']\n",
    "name2=[for i in name]"
   ]
  },
  {
   "attachments": {},
   "cell_type": "markdown",
   "metadata": {},
   "source": [
    "wap to create a list of 10 numbers, then use comprehension to create another list of only odd no\n",
    "wapto create a list of 10  no , then use comprehension to create another list of only even no\n",
    "wap to create a list a=['2','3','5','10']"
   ]
  },
  {
   "attachments": {},
   "cell_type": "markdown",
   "metadata": {},
   "source": [
    "-enumerate\n",
    "-zip"
   ]
  },
  {
   "cell_type": "code",
   "execution_count": 13,
   "metadata": {},
   "outputs": [
    {
     "name": "stdout",
     "output_type": "stream",
     "text": [
      "(0, 'apple')\n",
      "(1, 'banana')\n",
      "(2, 'cherry')\n"
     ]
    }
   ],
   "source": [
    "x=['apple','banana','cherry']\n",
    "for i in enumerate(x):\n",
    "    print(i)"
   ]
  },
  {
   "cell_type": "code",
   "execution_count": 14,
   "metadata": {},
   "outputs": [
    {
     "name": "stdout",
     "output_type": "stream",
     "text": [
      "0 red\n",
      "1 green\n",
      "2 blue\n",
      "3 yellow\n"
     ]
    }
   ],
   "source": [
    "colors=['red','green','blue','yellow']\n",
    "for i,j in enumerate(colors):\n",
    "    print(i,j)\n"
   ]
  },
  {
   "cell_type": "code",
   "execution_count": 15,
   "metadata": {},
   "outputs": [
    {
     "name": "stdout",
     "output_type": "stream",
     "text": [
      "🧨red\n",
      "🙄green\n",
      "🧨blue\n",
      "🙄yellow\n"
     ]
    }
   ],
   "source": [
    "for index, value in enumerate(colors):\n",
    "    if index%2==0:\n",
    "        print(f'🧨{value}')\n",
    "    else:\n",
    "        print(f'🙄{value}')"
   ]
  },
  {
   "cell_type": "code",
   "execution_count": 16,
   "metadata": {},
   "outputs": [
    {
     "name": "stdout",
     "output_type": "stream",
     "text": [
      "alex got 56 in hindi\n",
      "mary got 78 in hindi\n",
      "sam got 90 in hindi\n",
      "alice got 45 in hindi\n"
     ]
    }
   ],
   "source": [
    "name=['alex','mary','sam','alice']\n",
    "hindi=[56,78,90,45]\n",
    "english=[67,89,90,78]\n",
    "for n,i in zip(name,hindi):\n",
    "    print(f'{n} got {i} in hindi')\n"
   ]
  },
  {
   "cell_type": "code",
   "execution_count": 17,
   "metadata": {},
   "outputs": [
    {
     "name": "stdout",
     "output_type": "stream",
     "text": [
      "alex got 67 in english\n",
      "mary got 89 in english\n",
      "sam got 90 in english\n",
      "alice got 78 in english\n"
     ]
    }
   ],
   "source": [
    "for n,i in zip(name,english):\n",
    "    print(f'{n} got {i} in english')"
   ]
  },
  {
   "cell_type": "code",
   "execution_count": 22,
   "metadata": {},
   "outputs": [
    {
     "name": "stdout",
     "output_type": "stream",
     "text": [
      "alex       hindi=56,english=67,total=123\n",
      "mary       hindi=78,english=89,total=167\n",
      "sam        hindi=90,english=90,total=180\n",
      "alice      hindi=45,english=78,total=123\n"
     ]
    }
   ],
   "source": [
    "for n,h,e in zip(name,hindi,english):\n",
    "    print(f'{n:<10} hindi={h},english={e},total={h+e}')"
   ]
  },
  {
   "attachments": {},
   "cell_type": "markdown",
   "metadata": {},
   "source": [
    "{n:<10>}- it is a formatting tool if we use colon after variable we can give specific spacing and alignment to the output text"
   ]
  },
  {
   "cell_type": "code",
   "execution_count": null,
   "metadata": {},
   "outputs": [],
   "source": []
  },
  {
   "cell_type": "code",
   "execution_count": null,
   "metadata": {},
   "outputs": [],
   "source": []
  }
 ],
 "metadata": {
  "kernelspec": {
   "display_name": "base",
   "language": "python",
   "name": "python3"
  },
  "language_info": {
   "codemirror_mode": {
    "name": "ipython",
    "version": 3
   },
   "file_extension": ".py",
   "mimetype": "text/x-python",
   "name": "python",
   "nbconvert_exporter": "python",
   "pygments_lexer": "ipython3",
   "version": "3.10.10"
  },
  "orig_nbformat": 4
 },
 "nbformat": 4,
 "nbformat_minor": 2
}
