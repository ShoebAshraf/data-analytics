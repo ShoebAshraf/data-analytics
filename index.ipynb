{
 "cells": [
  {
   "cell_type": "code",
   "execution_count": null,
   "metadata": {},
   "outputs": [],
   "source": []
  },
  {
   "cell_type": "code",
   "execution_count": 7,
   "metadata": {},
   "outputs": [
    {
     "name": "stdout",
     "output_type": "stream",
     "text": [
      "irctc\n"
     ]
    }
   ],
   "source": [
    "Apps=['whatsapp','fb','insta','amazon','flipkart','paytm','google pay','messenger','twitter','merriam webster','myntra','ola','rapido','digilocker','inshorts','zomato','swiggy','coc','zee5','prime','netflix','quora','irctc','truecaller','my jio','oyo','telegram']\n",
    "print(Apps[-5])"
   ]
  },
  {
   "cell_type": "code",
   "execution_count": 12,
   "metadata": {},
   "outputs": [
    {
     "name": "stdout",
     "output_type": "stream",
     "text": [
      "['o', 'g', 'r']\n",
      "['a', 'm', 'i', 'z']\n",
      "['p', 'r', 'o', 'g', 'r', 'a', 'm', 'i', 'z']\n",
      "['r', 'g', 'a', 'i']\n",
      "['z']\n"
     ]
    }
   ],
   "source": [
    "myList=['p','r','o','g','r','a','m','i','z']\n",
    "print(myList[2:5])\n",
    "print(myList[5:])\n",
    "print(myList[:])\n",
    "print(myList[1:9:2])\n",
    "print(myList[-1:])"
   ]
  },
  {
   "attachments": {},
   "cell_type": "markdown",
   "metadata": {},
   "source": [
    "indexing works from left to write only thts why [-1:] gives only z"
   ]
  },
  {
   "cell_type": "code",
   "execution_count": null,
   "metadata": {},
   "outputs": [],
   "source": []
  }
 ],
 "metadata": {
  "kernelspec": {
   "display_name": "base",
   "language": "python",
   "name": "python3"
  },
  "language_info": {
   "codemirror_mode": {
    "name": "ipython",
    "version": 3
   },
   "file_extension": ".py",
   "mimetype": "text/x-python",
   "name": "python",
   "nbconvert_exporter": "python",
   "pygments_lexer": "ipython3",
   "version": "3.10.10"
  },
  "orig_nbformat": 4
 },
 "nbformat": 4,
 "nbformat_minor": 2
}
