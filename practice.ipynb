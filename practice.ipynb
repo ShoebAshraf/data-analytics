{
 "cells": [
  {
   "attachments": {},
   "cell_type": "markdown",
   "metadata": {},
   "source": [
    "List of all keywords in Python-\n",
    "A-and,as,assert.\n",
    "B-break\n",
    "C-class,continue\n",
    "D-def,del\n",
    "E-elif,else,except\n",
    "F-False,finally,for,from\n",
    "G-global\n",
    "I-if,import,in,is\n",
    "L-lambda\n",
    "N-None,nonlocal,not\n",
    "O-or\n",
    "P-pass\n",
    "R-raise,return\n",
    "T-True,try\n",
    "W-while,with\n",
    "Y-yield\t \t \t \n",
    "True False None,and or not in is,for while break continue,if else elif,def,return yield,class,as,lambda,import from,try except raise finally assert"
   ]
  },
  {
   "cell_type": "code",
   "execution_count": 6,
   "metadata": {},
   "outputs": [
    {
     "name": "stdout",
     "output_type": "stream",
     "text": [
      "the list of keywords is:\n",
      "['False', 'None', 'True', 'and', 'as', 'assert', 'async', 'await', 'break', 'class', 'continue', 'def', 'del', 'elif', 'else', 'except', 'finally', 'for', 'from', 'global', 'if', 'import', 'in', 'is', 'lambda', 'nonlocal', 'not', 'or', 'pass', 'raise', 'return', 'try', 'while', 'with', 'yield']\n"
     ]
    }
   ],
   "source": [
    "import keyword\n",
    "print(f'the list of keywords is:')\n",
    "print(keyword.kwlist)"
   ]
  },
  {
   "attachments": {},
   "cell_type": "markdown",
   "metadata": {},
   "source": [
    "Exception Handling Keywords – try, except, raise, finally, and assert\n",
    "try : This keyword is used for exception handling, used to catch the errors in the code using the keyword except. Code in “try” block is checked, if there is any type of error, except block is executed.\n",
    "except : As explained above, this works together with “try” to catch exceptions.\n",
    "finally : No matter what is result of the “try” block, block termed “finally” is always executed.\n",
    "raise: We can raise an exception explicitly with the raise keyword\n",
    "assert: This function is used for debugging purposes. Usually used to check the correctness of code. If a statement is evaluated to be true, nothing happens, but when it is false, “AssertionError” is raised. One can also print a message with the error, separated by a comma."
   ]
  },
  {
   "cell_type": "code",
   "execution_count": 15,
   "metadata": {},
   "outputs": [
    {
     "name": "stdout",
     "output_type": "stream",
     "text": [
      "can't divide by zero\n",
      "this is always executed\n",
      "the value of a/b is:\n"
     ]
    },
    {
     "ename": "AssertionError",
     "evalue": "divide by zero error",
     "output_type": "error",
     "traceback": [
      "\u001b[1;31m---------------------------------------------------------------------------\u001b[0m",
      "\u001b[1;31mAssertionError\u001b[0m                            Traceback (most recent call last)",
      "Cell \u001b[1;32mIn[15], line 11\u001b[0m\n\u001b[0;32m      9\u001b[0m     \u001b[39mprint\u001b[39m(\u001b[39m'\u001b[39m\u001b[39mthis is always executed\u001b[39m\u001b[39m'\u001b[39m)\n\u001b[0;32m     10\u001b[0m \u001b[39mprint\u001b[39m(\u001b[39m'\u001b[39m\u001b[39mthe value of a/b is:\u001b[39m\u001b[39m'\u001b[39m)\n\u001b[1;32m---> 11\u001b[0m \u001b[39massert\u001b[39;00m b\u001b[39m!=\u001b[39m\u001b[39m0\u001b[39m,\u001b[39m'\u001b[39m\u001b[39mdivide by zero error\u001b[39m\u001b[39m'\u001b[39m\n\u001b[0;32m     12\u001b[0m \u001b[39mprint\u001b[39m(a\u001b[39m/\u001b[39mb)\n",
      "\u001b[1;31mAssertionError\u001b[0m: divide by zero error"
     ]
    }
   ],
   "source": [
    "a=4\n",
    "b=0\n",
    "try:\n",
    "    k=a//b\n",
    "    print(k)\n",
    "except:\n",
    "    print('can\\'t divide by zero')\n",
    "finally:\n",
    "    print('this is always executed')\n",
    "print('the value of a/b is:')\n",
    "assert b!=0,'divide by zero error'\n",
    "print(a/b)\n",
    "\n",
    "\n",
    "\n",
    "\n",
    "\n"
   ]
  },
  {
   "cell_type": "code",
   "execution_count": 14,
   "metadata": {},
   "outputs": [
    {
     "ename": "TypeError",
     "evalue": "Both the strings are different.",
     "output_type": "error",
     "traceback": [
      "\u001b[1;31m---------------------------------------------------------------------------\u001b[0m",
      "\u001b[1;31mTypeError\u001b[0m                                 Traceback (most recent call last)",
      "Cell \u001b[1;32mIn[14], line 3\u001b[0m\n\u001b[0;32m      1\u001b[0m temp \u001b[39m=\u001b[39m \u001b[39m\"\u001b[39m\u001b[39mgeeks for geeks\u001b[39m\u001b[39m\"\u001b[39m\n\u001b[0;32m      2\u001b[0m \u001b[39mif\u001b[39;00m temp \u001b[39m!=\u001b[39m \u001b[39m\"\u001b[39m\u001b[39mgeeks\u001b[39m\u001b[39m\"\u001b[39m:\n\u001b[1;32m----> 3\u001b[0m     \u001b[39mraise\u001b[39;00m \u001b[39mTypeError\u001b[39;00m(\u001b[39m\"\u001b[39m\u001b[39mBoth the strings are different.\u001b[39m\u001b[39m\"\u001b[39m)\n",
      "\u001b[1;31mTypeError\u001b[0m: Both the strings are different."
     ]
    }
   ],
   "source": [
    "temp = \"geeks for geeks\"\n",
    "if temp != \"geeks\":\n",
    "    raise TypeError(\"Both the strings are different.\")"
   ]
  },
  {
   "attachments": {},
   "cell_type": "markdown",
   "metadata": {},
   "source": [
    "as\n",
    "as keyword is used to create the alias for the module imported. i.e giving a new name to the imported module. E.g import math as mymath."
   ]
  },
  {
   "cell_type": "code",
   "execution_count": null,
   "metadata": {},
   "outputs": [],
   "source": []
  },
  {
   "cell_type": "code",
   "execution_count": 42,
   "metadata": {},
   "outputs": [
    {
     "name": "stdout",
     "output_type": "stream",
     "text": [
      "120\n"
     ]
    }
   ],
   "source": [
    "import math as shoeb \n",
    "'''as keyword is used to create the alias for the module imported.\n",
    " i.e giving a new name to the imported module. E.g import math as mymath.'''\n",
    "print(shoeb.factorial(5))\n"
   ]
  },
  {
   "cell_type": "code",
   "execution_count": 56,
   "metadata": {},
   "outputs": [
    {
     "name": "stdout",
     "output_type": "stream",
     "text": [
      "343\n"
     ]
    }
   ],
   "source": [
    "g=lambda x:x*x*x \n",
    "'''Lambda keyword is used to make inline returning \n",
    "functions with no statements allowed internally'''\n",
    "print(g(7))"
   ]
  },
  {
   "cell_type": "code",
   "execution_count": 58,
   "metadata": {},
   "outputs": [
    {
     "name": "stdout",
     "output_type": "stream",
     "text": [
      "3628800\n"
     ]
    }
   ],
   "source": [
    "import math # This statement is used to include a particular module into current program.\n",
    "print(math.factorial(10))"
   ]
  },
  {
   "attachments": {},
   "cell_type": "markdown",
   "metadata": {},
   "source": [
    "Import, From\n",
    "import : This statement is used to include a particular module into current program.\n",
    "from : Generally used with import, from is used to import particular functionality from the module imported."
   ]
  },
  {
   "cell_type": "code",
   "execution_count": 59,
   "metadata": {},
   "outputs": [
    {
     "name": "stdout",
     "output_type": "stream",
     "text": [
      "3628800\n"
     ]
    }
   ],
   "source": [
    "from math import factorial \n",
    "'''Generally used with import, from is used to import\n",
    "particular functionality from the module imported.'''\n",
    "print(factorial(10))"
   ]
  },
  {
   "attachments": {},
   "cell_type": "markdown",
   "metadata": {},
   "source": [
    "True, False, None\n",
    "True: This keyword is used to represent a boolean true. If a statement is true, “True” is printed.\n",
    "False: This keyword is used to represent a boolean false. If a statement is false, “False” is printed. \n",
    "None: This is a special constant used to denote a null value or a void. It’s important to remember, 0, any empty container(e.g empty list) does not compute to None. \n",
    "It is an object of its datatype – NoneType. It is not possible to create multiple None objects and can assign them to variables."
   ]
  },
  {
   "cell_type": "code",
   "execution_count": 66,
   "metadata": {},
   "outputs": [
    {
     "name": "stdout",
     "output_type": "stream",
     "text": [
      "True\n",
      "True\n",
      "3\n",
      "1\n",
      "False\n",
      "False\n"
     ]
    }
   ],
   "source": [
    "print(False==0)\n",
    "print(True==1)\n",
    "print(True+True+True)\n",
    "print(True+False+False)\n",
    "print(None==0)\n",
    "print(None==[])"
   ]
  },
  {
   "attachments": {},
   "cell_type": "markdown",
   "metadata": {},
   "source": [
    "and, or, not, in, is-\n",
    "and: This a logical operator in python. “and” Return the first false value. If not found return last.\n",
    "or: This a logical operator in python. “or” Return the first True value.if not found return last.\n",
    "not: This logical operator inverts the truth value.\n",
    "in: This keyword is used to check if a container contains a value. This keyword is also used to loop through the container.\n",
    "is: This keyword is used to test object identity, i.e to check if both the objects take the same memory location or not. "
   ]
  },
  {
   "attachments": {},
   "cell_type": "markdown",
   "metadata": {},
   "source": [
    "\n",
    "Think of statement logic and which operand determines the value of the entire expression:\n",
    "\n",
    "and:\n",
    "the first falsy operand makes the expression False regardless of what comes after\n",
    "if there are only truthy operands, the last one settles it\n",
    "Examples:\n",
    "\n",
    ">>> 5 and 0\n",
    "0\n",
    ">>> 0 and 5\n",
    "0 \n",
    ">>> 5 and 0 and 3\n",
    "0 \n",
    ">>> 10 and 5\n",
    "5\n",
    ">>> 5 and 10\n",
    "10\n",
    "or:\n",
    "the first truthy operand makes the expression True regardless of what comes after\n",
    "if there are only falsy operands, the last one settles it\n",
    "Examples:\n",
    "\n",
    ">>> 5 or 0\n",
    "5\n",
    ">>> 0 or 5\n",
    "5 \n",
    ">>> 5 or 0 or 3\n",
    "5 \n",
    ">>> 10 or 5\n",
    "10\n",
    ">>> 5 or 10\n",
    "5\n",
    "Right-Left-Associativity-\n",
    "a or b and c or d == (a or (b and (c or d)))"
   ]
  },
  {
   "cell_type": "code",
   "execution_count": 64,
   "metadata": {},
   "outputs": [
    {
     "name": "stdout",
     "output_type": "stream",
     "text": [
      "0\n",
      "10\n",
      "3\n",
      "10\n",
      "True\n",
      "False\n",
      "False\n",
      "s is part of my name\n",
      "m o h d   s h o e b   a s h r a f \n",
      "True\n",
      "False\n"
     ]
    },
    {
     "name": "stderr",
     "output_type": "stream",
     "text": [
      "<>:15: SyntaxWarning: \"is\" with a literal. Did you mean \"==\"?\n",
      "<>:15: SyntaxWarning: \"is\" with a literal. Did you mean \"==\"?\n",
      "C:\\Users\\Dell\\AppData\\Local\\Temp\\ipykernel_20252\\1464455675.py:15: SyntaxWarning: \"is\" with a literal. Did you mean \"==\"?\n",
      "  print(' 'is' ')\n"
     ]
    },
    {
     "data": {
      "text/plain": [
       "'dictionary is mutable( can be changed once allocated)\\nhence occupy different memory location'"
      ]
     },
     "execution_count": 64,
     "metadata": {},
     "output_type": "execute_result"
    }
   ],
   "source": [
    "print(3 and 0)\n",
    "print(3 and 10)\n",
    "print(3 or 0)\n",
    "print(10 or 20 or 30 or 10 or 70)\n",
    "print(True or False )\n",
    "print(False and True)\n",
    "print(not True)\n",
    "if 's' in 'mohd shoeb ashraf':\n",
    "    print('s is part of my name')\n",
    "else:\n",
    "    print('s is not in my name')\n",
    "for i in 'mohd shoeb ashraf':\n",
    "    print(f'{i}',end=' ')\n",
    "print('\\r')\n",
    "print(' 'is' ') \n",
    "'''string is immutable( cannot be changed once allocated)\n",
    "hence occupy same memory location'''\n",
    "print({}is{})\n",
    "'''dictionary is mutable( can be changed once allocated)\n",
    "hence occupy different memory location'''"
   ]
  },
  {
   "cell_type": "code",
   "execution_count": 65,
   "metadata": {},
   "outputs": [
    {
     "name": "stdout",
     "output_type": "stream",
     "text": [
      "20\n",
      "shoeb\n"
     ]
    },
    {
     "ename": "NameError",
     "evalue": "name 'var1' is not defined",
     "output_type": "error",
     "traceback": [
      "\u001b[1;31m---------------------------------------------------------------------------\u001b[0m",
      "\u001b[1;31mNameError\u001b[0m                                 Traceback (most recent call last)",
      "Cell \u001b[1;32mIn[65], line 9\u001b[0m\n\u001b[0;32m      6\u001b[0m \u001b[39m'''del is used to delete a reference to an object.\u001b[39;00m\n\u001b[0;32m      7\u001b[0m \u001b[39mAny variable or list value can be deleted using del.'''\u001b[39;00m\n\u001b[0;32m      8\u001b[0m \u001b[39mdel\u001b[39;00m var2\n\u001b[1;32m----> 9\u001b[0m \u001b[39mprint\u001b[39m(var1)\n\u001b[0;32m     10\u001b[0m \u001b[39mprint\u001b[39m(var2)\n",
      "\u001b[1;31mNameError\u001b[0m: name 'var1' is not defined"
     ]
    }
   ],
   "source": [
    "var1=20\n",
    "var2='shoeb'\n",
    "print(var1)\n",
    "print(var2)\n",
    "del var1 \n",
    "'''del is used to delete a reference to an object.\n",
    "Any variable or list value can be deleted using del.'''\n",
    "del var2\n",
    "print(var1)\n",
    "print(var2)"
   ]
  },
  {
   "attachments": {},
   "cell_type": "markdown",
   "metadata": {},
   "source": [
    "Iteration Keywords – for, while, break, continue\n",
    "for: This keyword is used to control flow and for looping.\n",
    "while: Has a similar working like “for”, used to control flow and for looping.\n",
    "break: “break” is used to control the flow of the loop. The statement is used to break out of the loop and passes the control to the statement following immediately after loop.\n",
    "continue: “continue” is also used to control the flow of code. The keyword skips the current iteration of the loop but does not end the loop."
   ]
  },
  {
   "cell_type": "code",
   "execution_count": 72,
   "metadata": {},
   "outputs": [
    {
     "name": "stdout",
     "output_type": "stream",
     "text": [
      "0 1 2 3 4 5 6 \n"
     ]
    }
   ],
   "source": [
    "for i in range(10):\n",
    "    print(i,end=' ')\n",
    "    if i==6:\n",
    "        break\n",
    "print()"
   ]
  },
  {
   "cell_type": "code",
   "execution_count": 74,
   "metadata": {},
   "outputs": [
    {
     "name": "stdout",
     "output_type": "stream",
     "text": [
      "0 1 2 3 4 5 7 8 9 "
     ]
    }
   ],
   "source": [
    "i = 0\n",
    "while i < 10:\n",
    "    # If i is equals to 6,\n",
    "    # continue to next iteration\n",
    "    # without printing\n",
    "    if i == 6:\n",
    "        i += 1\n",
    "        continue\n",
    "    else:\n",
    "        # otherwise print the value\n",
    "        # of i\n",
    "        print(i, end=\" \")\n",
    " \n",
    "    i += 1"
   ]
  },
  {
   "cell_type": "code",
   "execution_count": 81,
   "metadata": {},
   "outputs": [
    {
     "name": "stdout",
     "output_type": "stream",
     "text": [
      "0 1 2 3 4 5 7 8 9 "
     ]
    }
   ],
   "source": [
    "i=0\n",
    "while i<10:\n",
    "    if i==6:\n",
    "        i+=1\n",
    "        continue\n",
    "    print(i,end=' ')\n",
    "    i+=1"
   ]
  },
  {
   "attachments": {},
   "cell_type": "markdown",
   "metadata": {},
   "source": [
    "Conditional keywords – if, else, elif\n",
    "if : It is a control statement for decision making. Truth expression forces control to go in “if” statement block.\n",
    "else : It is a control statement for decision making. False expression forces control to go in “else” statement block.\n",
    "elif : It is a control statement for decision making. It is short for “else if“"
   ]
  },
  {
   "cell_type": "code",
   "execution_count": 4,
   "metadata": {},
   "outputs": [
    {
     "name": "stdout",
     "output_type": "stream",
     "text": [
      "i is not present\n"
     ]
    }
   ],
   "source": [
    "i=int(input('enter some value'))\n",
    "if(i==10):\n",
    "    print('i is 10')\n",
    "elif(i==20):\n",
    "    print('i is 20')\n",
    "else:\n",
    "    print('i is not present')"
   ]
  },
  {
   "attachments": {},
   "cell_type": "markdown",
   "metadata": {},
   "source": [
    "def-\n",
    "def keyword is used to declare user defined functions."
   ]
  },
  {
   "cell_type": "code",
   "execution_count": 6,
   "metadata": {},
   "outputs": [
    {
     "name": "stdout",
     "output_type": "stream",
     "text": [
      "hi all\n"
     ]
    }
   ],
   "source": [
    "def fun():\n",
    "    print('hi all')\n",
    "fun()"
   ]
  },
  {
   "attachments": {},
   "cell_type": "markdown",
   "metadata": {},
   "source": [
    "Return Keywords – Return, Yield\n",
    "return : This keyword is used to return from the function.\n",
    "yield : This keyword is used like return statement but is used to return a generator."
   ]
  },
  {
   "cell_type": "code",
   "execution_count": 8,
   "metadata": {},
   "outputs": [
    {
     "name": "stdout",
     "output_type": "stream",
     "text": [
      "45\n"
     ]
    }
   ],
   "source": [
    "def fun():\n",
    "    s=0\n",
    "    for i in range(10):\n",
    "        s+=i\n",
    "    return s\n",
    "print(fun())\n"
   ]
  },
  {
   "cell_type": "code",
   "execution_count": 9,
   "metadata": {},
   "outputs": [
    {
     "name": "stdout",
     "output_type": "stream",
     "text": [
      "0\n",
      "1\n",
      "3\n",
      "6\n",
      "10\n",
      "15\n",
      "21\n",
      "28\n",
      "36\n",
      "45\n"
     ]
    }
   ],
   "source": [
    "def fun():\n",
    "    s=0\n",
    "    for i in range(10):\n",
    "        s+=i\n",
    "        yield s\n",
    "for i in fun():\n",
    "    print(i)"
   ]
  },
  {
   "attachments": {},
   "cell_type": "markdown",
   "metadata": {},
   "source": [
    "class\n",
    "class keyword is used to declare user defined classes\n",
    "Some points on Python class:\n",
    "\n",
    "Classes are created by keyword class.\n",
    "Attributes are the variables that belong to a class.\n",
    "Attributes are always public and can be accessed using the dot (.) operator. Eg.: My class.Myattribute\n",
    "Object of Python Class-\n",
    "An Object is an instance of a Class. A class is like a blueprint while an instance is a copy of the class with actual values. It’s not an idea anymore, it’s an actual dog, like a dog of breed pug who’s seven years old. You can have many dogs to create many different instances, but without the class as a guide, you would be lost, not knowing what information is required.\n",
    "An object consists of:\n",
    "State: It is represented by the attributes of an object. It also reflects the properties of an object.\n",
    "Behavior: It is represented by the methods of an object. It also reflects the response of an object to other objects.\n",
    "Identity: It gives a unique name to an object and enables one object to interact with other objects.\n",
    "Declaring Class Objects (Also called instantiating a class)\n",
    "\n",
    "\n"
   ]
  },
  {
   "cell_type": "code",
   "execution_count": 10,
   "metadata": {},
   "outputs": [
    {
     "name": "stdout",
     "output_type": "stream",
     "text": [
      "mammal\n",
      "I'm a mammal\n",
      "I'm a dog\n"
     ]
    }
   ],
   "source": [
    "# Python3 program to\n",
    "# demonstrate instantiating\n",
    "# a class\n",
    "class Dog:\n",
    "    attr1 = \"mammal\"\n",
    "    attr2 = \"dog\"\n",
    " \n",
    "    # A sample method\n",
    "    def fun(self):\n",
    "        print(\"I'm a\", self.attr1)\n",
    "        print(\"I'm a\", self.attr2)\n",
    "# Driver code\n",
    "# Object instantiation\n",
    "Rodger = Dog()\n",
    "# Accessing class attributes\n",
    "# and method through objects\n",
    "print(Rodger.attr1)\n",
    "Rodger.fun()"
   ]
  },
  {
   "attachments": {},
   "cell_type": "markdown",
   "metadata": {},
   "source": [
    "with keyword is used to wrap the execution of block of code within methods defined by context manager. This keyword is not used much in day to day programming."
   ]
  },
  {
   "cell_type": "code",
   "execution_count": 11,
   "metadata": {},
   "outputs": [],
   "source": [
    "# using with statement\n",
    "with open('file_path', 'w') as file:\n",
    "    file.write('hello world !')"
   ]
  },
  {
   "attachments": {},
   "cell_type": "markdown",
   "metadata": {},
   "source": [
    "pass\n",
    "pass is the null statement in python. Nothing happens when this is encountered. This is used to prevent indentation errors and used as a placeholder."
   ]
  },
  {
   "cell_type": "code",
   "execution_count": 12,
   "metadata": {},
   "outputs": [],
   "source": [
    "for i in range(10):\n",
    "    \n",
    "\n",
    "    pass"
   ]
  },
  {
   "attachments": {},
   "cell_type": "markdown",
   "metadata": {},
   "source": [
    "Global, Nonlocal\n",
    "global: This keyword is used to define a variable inside the function to be of a global scope.\n",
    "non-local : This keyword works similar to the global, but rather than global, this keyword declares a variable to point to variable of outside enclosing function, in case of nested functions."
   ]
  },
  {
   "cell_type": "code",
   "execution_count": 16,
   "metadata": {},
   "outputs": [
    {
     "name": "stdout",
     "output_type": "stream",
     "text": [
      "25\n",
      "20\n"
     ]
    }
   ],
   "source": [
    "# global variable\n",
    "a = 15\n",
    "b = 10\n",
    " \n",
    "# function to perform addition\n",
    "def add():\n",
    "    c = a + b\n",
    "    print(c)\n",
    " \n",
    "# calling a function\n",
    "add()\n",
    " \n",
    "# nonlocal keyword\n",
    "def fun():\n",
    "    var1 = 10\n",
    " \n",
    "    def gun():\n",
    "        # tell python explicitly that it\n",
    "        # has to access var1 initialized\n",
    "        # in fun on line 2\n",
    "        # using the keyword nonlocal\n",
    "        nonlocal var1 \n",
    "        var1 = var1 + 10\n",
    "        print(var1)\n",
    " \n",
    "    gun()\n",
    "fun()"
   ]
  },
  {
   "attachments": {},
   "cell_type": "markdown",
   "metadata": {},
   "source": [
    "what is console?-\n",
    "console(also called shell) is basically a command line interpreter that takes input from the user i.e. one command at a time and interprets it. If it is error free then it runs the command and gives required output otherwise shows the error message.like in vs code we write code and press shift+enter to run code."
   ]
  },
  {
   "attachments": {},
   "cell_type": "markdown",
   "metadata": {},
   "source": [
    "Type casting the input integer-\n",
    "We can also typecast this input to integer, float, or string by specifying the input() function inside the type.\n",
    "-There might be conditions when you might require integer input from the user/Console, the following code takes two input(integer/float) from the console and typecasts them to an integer/float then prints the sum. "
   ]
  },
  {
   "cell_type": "code",
   "execution_count": 22,
   "metadata": {},
   "outputs": [
    {
     "name": "stdout",
     "output_type": "stream",
     "text": [
      "68\n"
     ]
    }
   ],
   "source": [
    "n1=int(input())\n",
    "n2=int(input())\n",
    "print(n1+n2)"
   ]
  },
  {
   "cell_type": "code",
   "execution_count": 10,
   "metadata": {},
   "outputs": [
    {
     "name": "stdout",
     "output_type": "stream",
     "text": [
      "8.4\n"
     ]
    }
   ],
   "source": [
    "n1=float(input())\n",
    "n2=float(input())\n",
    "print(n1+n2)"
   ]
  },
  {
   "attachments": {},
   "cell_type": "markdown",
   "metadata": {},
   "source": [
    "Typecasting the input to String: All kinds of input can be converted to string type whether they are float or integer. We make use of keyword str for typecasting. \n",
    " we can also take input string by just writing input() function by default it makes the input string"
   ]
  },
  {
   "cell_type": "code",
   "execution_count": 13,
   "metadata": {},
   "outputs": [
    {
     "name": "stdout",
     "output_type": "stream",
     "text": [
      "dsshejbzd121\n",
      "<class 'str'>\n"
     ]
    }
   ],
   "source": [
    "string_default=input()\n",
    "print(string_default)\n",
    "print(type(string_default))"
   ]
  },
  {
   "cell_type": "code",
   "execution_count": 12,
   "metadata": {},
   "outputs": [
    {
     "name": "stdout",
     "output_type": "stream",
     "text": [
      "kjsdfsdfj\n"
     ]
    }
   ],
   "source": [
    "string=str(input())\n",
    "print(string)"
   ]
  },
  {
   "cell_type": "code",
   "execution_count": 1,
   "metadata": {},
   "outputs": [
    {
     "name": "stdout",
     "output_type": "stream",
     "text": [
      "i am 18 years old!\n"
     ]
    }
   ],
   "source": [
    "print('i am {} years old!'.format(18))"
   ]
  },
  {
   "cell_type": "code",
   "execution_count": 2,
   "metadata": {},
   "outputs": [
    {
     "name": "stdout",
     "output_type": "stream",
     "text": [
      "iam 12 yrs old!.\n"
     ]
    }
   ],
   "source": [
    "str='iam {} yrs old!.'\n",
    "print(str.format(12))"
   ]
  },
  {
   "attachments": {},
   "cell_type": "markdown",
   "metadata": {},
   "source": [
    "escape sequences-\n",
    "1.\\n \n",
    "2.\\t \n",
    "3.\\\\ \n",
    "4.\\'  \n",
    "5.\\\"  \n",
    "6.\\a\n"
   ]
  },
  {
   "cell_type": "code",
   "execution_count": 13,
   "metadata": {},
   "outputs": [
    {
     "name": "stdout",
     "output_type": "stream",
     "text": [
      "my name is \n",
      "Mohd Shoeb Ashraf\n",
      "time is a \tvaluable thing\n",
      "watch it fly by\\as the pendulum swings\n",
      "it doesn't even matter how hard you try\n",
      "it is so \"unreal\"\n",
      "\u0007\n"
     ]
    }
   ],
   "source": [
    "print('my name is \\nMohd Shoeb Ashraf') #new line\n",
    "print('time is a \\tvaluable thing') #horizontal tab\n",
    "print('watch it fly by\\\\as the pendulum swings') #prints a backslash\n",
    "print('it doesn\\'t even matter how hard you try') #prints a single quote\n",
    "print('it is so \\\"unreal\\\"') #prints a double quote\n",
    "print('\\a') #makes a sound like a bell"
   ]
  },
  {
   "cell_type": "code",
   "execution_count": 15,
   "metadata": {},
   "outputs": [
    {
     "name": "stdout",
     "output_type": "stream",
     "text": [
      "i love you!!\n"
     ]
    }
   ],
   "source": [
    "print('{0} love {1}!!'.format('i','you'))"
   ]
  },
  {
   "cell_type": "code",
   "execution_count": 18,
   "metadata": {},
   "outputs": [
    {
     "name": "stdout",
     "output_type": "stream",
     "text": [
      "you love i\n"
     ]
    }
   ],
   "source": [
    "print('{1} love {0}'.format('i','you'))"
   ]
  },
  {
   "cell_type": "code",
   "execution_count": 17,
   "metadata": {},
   "outputs": [
    {
     "name": "stdout",
     "output_type": "stream",
     "text": [
      "every programmer should know the use of open source programming and operating systems\n"
     ]
    }
   ],
   "source": [
    "print('every {} should know the use of \\\n",
    "{} {} programming and {}'.format('programmer','open',\\\n",
    "'source','operating systems')) # index 0,1,2,3,...etc can be filled in curly braces to print specific text "
   ]
  },
  {
   "attachments": {},
   "cell_type": "markdown",
   "metadata": {},
   "source": [
    "type specifying in python=\n",
    "1.%s"
   ]
  },
  {
   "cell_type": "code",
   "execution_count": 33,
   "metadata": {},
   "outputs": [
    {
     "name": "stdout",
     "output_type": "stream",
     "text": [
      "Mohd Shoeb Ashraf\n",
      "   Mohd Shoeb Ashraf\n",
      "Mohd Shoeb Ashraf   \n",
      "Mohd Shoeb Ashraf\n",
      "Mohd \n"
     ]
    }
   ],
   "source": [
    "print('%s'%('Mohd Shoeb Ashraf')) #use %s in place of {} & % in place of '.format',all is same as string.format()\"\"\"\n",
    "print('%20s'%('Mohd Shoeb Ashraf'))\n",
    "print('%-20s'%('Mohd Shoeb Ashraf'))\n",
    "print('%10s'%('Mohd Shoeb Ashraf'))\n",
    "print('%.5s'%('Mohd Shoeb Ashraf'))"
   ]
  },
  {
   "attachments": {},
   "cell_type": "markdown",
   "metadata": {},
   "source": [
    "2-%c for character only\n",
    "3-%i for signed decimal integer\n",
    "4-%d for signed decimal integer of base 10 "
   ]
  },
  {
   "cell_type": "code",
   "execution_count": 20,
   "metadata": {},
   "outputs": [
    {
     "name": "stdout",
     "output_type": "stream",
     "text": [
      "i wondered why the program was troubling me.Then it dawned on me it was a Bug.\n"
     ]
    }
   ],
   "source": [
    "type='Bug'\n",
    "result='troubling'                            #'\\' is used to write multiline code in python\n",
    "print('i wondered why the program was %s me.Then \\\n",
    "it dawned on me it was a %s.'%(result,type)) #don't give space after backslash\n"
   ]
  },
  {
   "cell_type": "code",
   "execution_count": 35,
   "metadata": {},
   "outputs": [
    {
     "name": "stdout",
     "output_type": "stream",
     "text": [
      "amazon is so useful.I tried to look up mobile and they had a nice one that cost 12000 rupees,\n"
     ]
    }
   ],
   "source": [
    "match=12000\n",
    "site='amazon'\n",
    "print('%s is so useful.I tried to look \\\n",
    "up mobile and they had a nice one that cost %d rupees,'%(site,match))"
   ]
  },
  {
   "attachments": {},
   "cell_type": "markdown",
   "metadata": {},
   "source": [
    "Another useful Type Specifying \n",
    "%u- unsigned decimal integer\n",
    "%o- octal integer\n",
    "f – floating-point display\n",
    "b – binary number\n",
    "o – octal number\n",
    "%x – hexadecimal with lowercase letters after 9\n",
    "%X– hexadecimal with uppercase letters after 9\n",
    "e – exponent notation\n",
    "You can also specify formatting symbols. The only change is using a colon (:) instead of %.\n",
    "For example, instead of %s use {:s} and instead of %d use {:d}"
   ]
  },
  {
   "cell_type": "code",
   "execution_count": 40,
   "metadata": {},
   "outputs": [
    {
     "name": "stdout",
     "output_type": "stream",
     "text": [
      "this site is 100.000000% securely encrypted!!\n",
      "my average of this semester is 78.23%\n",
      "my average of this semester is 78%\n"
     ]
    }
   ],
   "source": [
    "print('this site is {0:f}% securely {1}!!'.format(100,'encrypted'))\n",
    "print('my average of this {0} is {1:.2f}%'.format('semester',78.232567))\n",
    "print('my average of this {0} is {1:.0f}%'.format('semester',78.232567))"
   ]
  },
  {
   "cell_type": "code",
   "execution_count": 24,
   "metadata": {},
   "outputs": [
    {
     "name": "stdout",
     "output_type": "stream",
     "text": [
      "the binary of 100 is 1100100\n",
      "the octal of 100 is 144\n",
      "1111000 101011001\n"
     ]
    }
   ],
   "source": [
    "print('the {0} of 100 is {1:b}'.format('binary',100))\n",
    "print('the {0} of 100 is {1:o}'.format('octal',100))\n",
    "print('{0:b} {1:b}'.format(120,345))\n"
   ]
  },
  {
   "cell_type": "code",
   "execution_count": 43,
   "metadata": {},
   "outputs": [
    {
     "ename": "ValueError",
     "evalue": "Unknown format code 'd' for object of type 'float'",
     "output_type": "error",
     "traceback": [
      "\u001b[1;31m---------------------------------------------------------------------------\u001b[0m",
      "\u001b[1;31mValueError\u001b[0m                                Traceback (most recent call last)",
      "Cell \u001b[1;32mIn[43], line 1\u001b[0m\n\u001b[1;32m----> 1\u001b[0m \u001b[39mprint\u001b[39m(\u001b[39m'\u001b[39;49m\u001b[39mthe temp today is \u001b[39;49m\u001b[39m{0:d}\u001b[39;49;00m\u001b[39m'\u001b[39;49m\u001b[39m.\u001b[39;49mformat(\u001b[39m35.56768\u001b[39;49m))\n",
      "\u001b[1;31mValueError\u001b[0m: Unknown format code 'd' for object of type 'float'"
     ]
    }
   ],
   "source": [
    "print('the temp today is {0:d}'.format(35.56768))"
   ]
  },
  {
   "cell_type": "code",
   "execution_count": 44,
   "metadata": {},
   "outputs": [
    {
     "name": "stdout",
     "output_type": "stream",
     "text": [
      "the temp today is 36\n"
     ]
    }
   ],
   "source": [
    "print('the temp today is {0:.0f}'.format(35.56768))"
   ]
  },
  {
   "attachments": {},
   "cell_type": "markdown",
   "metadata": {},
   "source": [
    "Padding Substitutions or Generating Spaces-\n",
    "Example: Demonstration of spacing when strings are passed as parameters\n",
    "By default, strings are left-justified within the field, and numbers are right-justified. We can modify this by placing an alignment code just following the colon.\n",
    "\n",
    "<   :  left-align text in the field\n",
    "^   :  center text in the field\n",
    ">   :  right-align text in the field"
   ]
  },
  {
   "cell_type": "code",
   "execution_count": 45,
   "metadata": {},
   "outputs": [
    {
     "name": "stdout",
     "output_type": "stream",
     "text": [
      "it is    40 degrees outside\n"
     ]
    }
   ],
   "source": [
    "print('it is {0:5} degrees outside'.format(40))"
   ]
  },
  {
   "cell_type": "code",
   "execution_count": 49,
   "metadata": {},
   "outputs": [
    {
     "name": "stdout",
     "output_type": "stream",
     "text": [
      "shoeb was born in             1995\n",
      "     shoeb       was born in 1995\n",
      "*******Shoeb********\n"
     ]
    }
   ],
   "source": [
    "print('{0:3} was born in {1:16}'.format('shoeb',1995))\n",
    "print('{0:^16} was born in {1:<4}'.format('shoeb',1995))\n",
    "print('{0:*^20}'.format('Shoeb'))"
   ]
  },
  {
   "attachments": {},
   "cell_type": "markdown",
   "metadata": {},
   "source": [
    "Applications -\n",
    "Formatters are generally used to Organize Data. Formatters can be seen in their best light when they are being used to organize a lot of data in a visual way. If we are showing databases to users, using formatters to increase field size and modify alignment can make the output more readable."
   ]
  },
  {
   "cell_type": "code",
   "execution_count": 50,
   "metadata": {},
   "outputs": [],
   "source": [
    "def unorganized(a,b):\n",
    "    for i in range(a,b):\n",
    "        print(i,i**2,i**3,i**4)\n",
    "def organized(a,b):\n",
    "    for i in range(a,b):\n",
    "        print('{:6d} {:6d} {:6d} {:6d}'.format(i,i**2,i**3,i**4))\n"
   ]
  },
  {
   "cell_type": "code",
   "execution_count": 52,
   "metadata": {},
   "outputs": [
    {
     "name": "stdout",
     "output_type": "stream",
     "text": [
      "1 1 1 1\n",
      "2 4 8 16\n",
      "3 9 27 81\n",
      "4 16 64 256\n",
      "5 25 125 625\n",
      "     1      1      1      1\n",
      "     2      4      8     16\n",
      "     3      9     27     81\n",
      "     4     16     64    256\n",
      "     5     25    125    625\n"
     ]
    }
   ],
   "source": [
    "n1=int(input('enter lower range:\\n'))\n",
    "n2=int(input('enter upper range:\\n'))\n",
    "unorganized(n1,n2)\n",
    "organized(n1,n2)"
   ]
  },
  {
   "attachments": {},
   "cell_type": "markdown",
   "metadata": {},
   "source": [
    "Using a dictionary for string formatting -\n",
    "Using a dictionary to unpack values into the placeholders in the string that needs to be formatted. We basically use ** to unpack the values. This method can be useful in string substitution while preparing an SQL query.\n"
   ]
  },
  {
   "cell_type": "code",
   "execution_count": 53,
   "metadata": {},
   "outputs": [
    {
     "name": "stdout",
     "output_type": "stream",
     "text": [
      "my name is TONY HOWARD STARK AKA the Iron Man\n"
     ]
    }
   ],
   "source": [
    "intro='my name is {first_name} {middle_name} {last_name} AKA the {aka}'\n",
    "full_name={\n",
    "    'first_name':'TONY',\n",
    "    'middle_name':'HOWARD',\n",
    "    'last_name':'STARK',\n",
    "    'aka':'Iron Man',\n",
    "}\n",
    "print(intro.format(**full_name)) # '**' operator is used to unpack the values\n"
   ]
  },
  {
   "attachments": {},
   "cell_type": "markdown",
   "metadata": {},
   "source": [
    "Python format() with list-\n",
    "Given a list of float values, the task is to truncate all float values to 2-decimal digits. Let’s see the different methods to do the task.\n"
   ]
  },
  {
   "cell_type": "code",
   "execution_count": 16,
   "metadata": {},
   "outputs": [
    {
     "name": "stdout",
     "output_type": "stream",
     "text": [
      "['10.56', '17.30', '60.92', '300.10']\n"
     ]
    }
   ],
   "source": [
    "input=[10.56453988,17.298345,60.9234234975,300.0989217873245]\n",
    "output=['{:.2f}'.format(elem) for elem in input]\n",
    "print(output)"
   ]
  },
  {
   "attachments": {},
   "cell_type": "markdown",
   "metadata": {},
   "source": [
    "f string in python-"
   ]
  },
  {
   "cell_type": "code",
   "execution_count": 56,
   "metadata": {},
   "outputs": [
    {
     "name": "stdout",
     "output_type": "stream",
     "text": [
      "my name is Mohd Shoeb Ashraf and my friends call me Shoeb\n"
     ]
    }
   ],
   "source": [
    "val= \"Shoeb\"\n",
    "print(f'my name is Mohd {val} Ashraf and my friends call me {val}')"
   ]
  },
  {
   "cell_type": "code",
   "execution_count": 72,
   "metadata": {},
   "outputs": [
    {
     "name": "stdout",
     "output_type": "stream",
     "text": [
      "Hello,My name is shoeb and i am **25** years old!\n"
     ]
    }
   ],
   "source": [
    "name= 'shoeb'\n",
    "age=25\n",
    "print(f'Hello,My name is {name} and i am {age:*^6} years old!')"
   ]
  },
  {
   "cell_type": "code",
   "execution_count": 79,
   "metadata": {},
   "outputs": [
    {
     "name": "stdout",
     "output_type": "stream",
     "text": [
      "2023-06-23 02:00:59.550441\n",
      "June 23, 23\n"
     ]
    }
   ],
   "source": [
    "import datetime\n",
    "today=datetime.datetime.today()\n",
    "print(today)\n",
    "print(f'{today:%B %d, %y}')"
   ]
  },
  {
   "attachments": {},
   "cell_type": "markdown",
   "metadata": {},
   "source": [
    "Note : F-strings are faster than the two most commonly used string formatting mechanisms, which are % formatting and str.format(). \n",
    "  "
   ]
  },
  {
   "cell_type": "code",
   "execution_count": 80,
   "metadata": {},
   "outputs": [
    {
     "data": {
      "text/plain": [
       "'my answer is 456'"
      ]
     },
     "execution_count": 80,
     "metadata": {},
     "output_type": "execute_result"
    }
   ],
   "source": [
    "ans= 456\n",
    "f'my answer is {ans}'"
   ]
  },
  {
   "attachments": {},
   "cell_type": "markdown",
   "metadata": {},
   "source": [
    "Backslash Cannot be used in format string directly."
   ]
  },
  {
   "cell_type": "code",
   "execution_count": 81,
   "metadata": {},
   "outputs": [
    {
     "ename": "SyntaxError",
     "evalue": "unexpected character after line continuation character (3216797965.py, line 1)",
     "output_type": "error",
     "traceback": [
      "\u001b[1;36m  Cell \u001b[1;32mIn[81], line 1\u001b[1;36m\u001b[0m\n\u001b[1;33m    f'newline:{ord('\\n')}'\u001b[0m\n\u001b[1;37m                     ^\u001b[0m\n\u001b[1;31mSyntaxError\u001b[0m\u001b[1;31m:\u001b[0m unexpected character after line continuation character\n"
     ]
    }
   ],
   "source": [
    "f'newline:{ord('\\n')}'"
   ]
  },
  {
   "cell_type": "code",
   "execution_count": 82,
   "metadata": {},
   "outputs": [
    {
     "data": {
      "text/plain": [
       "'newline:10'"
      ]
     },
     "execution_count": 82,
     "metadata": {},
     "output_type": "execute_result"
    }
   ],
   "source": [
    "newline=ord('\\n')\n",
    "f'newline:{newline}'"
   ]
  },
  {
   "cell_type": "code",
   "execution_count": 8,
   "metadata": {},
   "outputs": [
    {
     "name": "stdout",
     "output_type": "stream",
     "text": [
      "1\n",
      "2\n",
      "3\n",
      "4\n",
      "5\n"
     ]
    }
   ],
   "source": [
    "\n",
    "for i in range(5):\n",
    "    i=i+1\n",
    "    print(i)\n"
   ]
  },
  {
   "attachments": {},
   "cell_type": "markdown",
   "metadata": {},
   "source": [
    "taking input in python-\n",
    "Developers often have a need to interact with users, either to get data or to provide some sort of result. Most programs today use a dialog box as a way of asking the user to provide some type of input. While Python provides us with two inbuilt functions to read the input from the keyboard.\n",
    "1-input ( prompt )\n",
    "2-raw_input ( prompt )\n",
    "-Python provides a built-in function called input which takes the input from the user. When the input function is called it stops the program and waits for the user’s input. When the user presses enter, the program resumes and returns what the user typed."
   ]
  },
  {
   "cell_type": "code",
   "execution_count": 2,
   "metadata": {},
   "outputs": [
    {
     "name": "stdout",
     "output_type": "stream",
     "text": [
      "1213\n"
     ]
    }
   ],
   "source": [
    "val=input('enter your value:')\n",
    "print(val)"
   ]
  },
  {
   "cell_type": "code",
   "execution_count": null,
   "metadata": {},
   "outputs": [],
   "source": []
  }
 ],
 "metadata": {
  "kernelspec": {
   "display_name": "base",
   "language": "python",
   "name": "python3"
  },
  "language_info": {
   "codemirror_mode": {
    "name": "ipython",
    "version": 3
   },
   "file_extension": ".py",
   "mimetype": "text/x-python",
   "name": "python",
   "nbconvert_exporter": "python",
   "pygments_lexer": "ipython3",
   "version": "3.10.10"
  },
  "orig_nbformat": 4
 },
 "nbformat": 4,
 "nbformat_minor": 2
}
