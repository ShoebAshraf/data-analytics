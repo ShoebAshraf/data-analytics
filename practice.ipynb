{
 "cells": [
  {
   "cell_type": "code",
   "execution_count": 1,
   "metadata": {},
   "outputs": [
    {
     "name": "stdout",
     "output_type": "stream",
     "text": [
      "i am 18 years old!\n"
     ]
    }
   ],
   "source": [
    "print('i am {} years old!'.format(18))"
   ]
  },
  {
   "cell_type": "code",
   "execution_count": 2,
   "metadata": {},
   "outputs": [
    {
     "name": "stdout",
     "output_type": "stream",
     "text": [
      "iam 12 yrs old!.\n"
     ]
    }
   ],
   "source": [
    "str='iam {} yrs old!.'\n",
    "print(str.format(12))"
   ]
  },
  {
   "attachments": {},
   "cell_type": "markdown",
   "metadata": {},
   "source": [
    "escape sequences-\n",
    "1.\\n 2.\\t 3.\\\\ 4.\\'  5.\\\"  6.\\a\n"
   ]
  },
  {
   "cell_type": "code",
   "execution_count": 13,
   "metadata": {},
   "outputs": [
    {
     "name": "stdout",
     "output_type": "stream",
     "text": [
      "my name is \n",
      "Mohd Shoeb Ashraf\n",
      "time is a \tvaluable thing\n",
      "watch it fly by\\as the pendulum swings\n",
      "it doesn't even matter how hard you try\n",
      "it is so \"unreal\"\n",
      "\u0007\n"
     ]
    }
   ],
   "source": [
    "print('my name is \\nMohd Shoeb Ashraf') #new line\n",
    "print('time is a \\tvaluable thing') #horizontal tab\n",
    "print('watch it fly by\\\\as the pendulum swings') #prints a backslash\n",
    "print('it doesn\\'t even matter how hard you try') #prints a single quote\n",
    "print('it is so \\\"unreal\\\"') #prints a double quote\n",
    "print('\\a') #makes a sound like a bell"
   ]
  },
  {
   "cell_type": "code",
   "execution_count": 15,
   "metadata": {},
   "outputs": [
    {
     "name": "stdout",
     "output_type": "stream",
     "text": [
      "i love you!!\n"
     ]
    }
   ],
   "source": [
    "print('{0} love {1}!!'.format('i','you'))"
   ]
  },
  {
   "cell_type": "code",
   "execution_count": 18,
   "metadata": {},
   "outputs": [
    {
     "name": "stdout",
     "output_type": "stream",
     "text": [
      "you love i\n"
     ]
    }
   ],
   "source": [
    "print('{1} love {0}'.format('i','you'))"
   ]
  },
  {
   "cell_type": "code",
   "execution_count": 1,
   "metadata": {},
   "outputs": [
    {
     "name": "stdout",
     "output_type": "stream",
     "text": [
      "every programmer should know the use of open source programming and operating systems\n"
     ]
    }
   ],
   "source": [
    "print('every {} should know the use of {} {} programming and {}'.format('programmer','open','source','operating systems')) # index 0,1,2,3,...etc can be filled in curly braces to print specific text "
   ]
  },
  {
   "attachments": {},
   "cell_type": "markdown",
   "metadata": {},
   "source": [
    "type specifying in python=\n",
    "1.%s"
   ]
  },
  {
   "cell_type": "code",
   "execution_count": 33,
   "metadata": {},
   "outputs": [
    {
     "name": "stdout",
     "output_type": "stream",
     "text": [
      "Mohd Shoeb Ashraf\n",
      "   Mohd Shoeb Ashraf\n",
      "Mohd Shoeb Ashraf   \n",
      "Mohd Shoeb Ashraf\n",
      "Mohd \n"
     ]
    }
   ],
   "source": [
    "print('%s'%('Mohd Shoeb Ashraf')) #use %s in place of {} & % in place of '.',all is same as string.format()\"\"\"\n",
    "print('%20s'%('Mohd Shoeb Ashraf'))\n",
    "print('%-20s'%('Mohd Shoeb Ashraf'))\n",
    "print('%10s'%('Mohd Shoeb Ashraf'))\n",
    "print('%.5s'%('Mohd Shoeb Ashraf'))"
   ]
  },
  {
   "attachments": {},
   "cell_type": "markdown",
   "metadata": {},
   "source": [
    "2-%c for character only\n",
    "3-%i for signed decimal integer\n",
    "4-%d for signed decimal integer of base 10 "
   ]
  },
  {
   "cell_type": "code",
   "execution_count": 31,
   "metadata": {},
   "outputs": [
    {
     "name": "stdout",
     "output_type": "stream",
     "text": [
      "i wondered why the program was troubling me.Then it dawned on me it was a Bug.\n"
     ]
    }
   ],
   "source": [
    "type='Bug'\n",
    "result='troubling'                            #'\\' is used to write multiline code in python\n",
    "print('i wondered why the program was %s me.Then \\\n",
    "it dawned on me it was a %s.'%(result,type)) #don't give space after backslash\n"
   ]
  },
  {
   "cell_type": "code",
   "execution_count": 35,
   "metadata": {},
   "outputs": [
    {
     "name": "stdout",
     "output_type": "stream",
     "text": [
      "amazon is so useful.I tried to look up mobile and they had a nice one that cost 12000 rupees,\n"
     ]
    }
   ],
   "source": [
    "match=12000\n",
    "site='amazon'\n",
    "print('%s is so useful.I tried to look \\\n",
    "up mobile and they had a nice one that cost %d rupees,'%(site,match))"
   ]
  },
  {
   "attachments": {},
   "cell_type": "markdown",
   "metadata": {},
   "source": [
    "Another useful Type Specifying \n",
    "%u- unsigned decimal integer\n",
    "%o- octal integer\n",
    "f – floating-point display\n",
    "b – binary number\n",
    "o – octal number\n",
    "%x – hexadecimal with lowercase letters after 9\n",
    "%X– hexadecimal with uppercase letters after 9\n",
    "e – exponent notation\n",
    "You can also specify formatting symbols. The only change is using a colon (:) instead of %.\n",
    "For example, instead of %s use {:s} and instead of %d use {:d}"
   ]
  },
  {
   "cell_type": "code",
   "execution_count": 40,
   "metadata": {},
   "outputs": [
    {
     "name": "stdout",
     "output_type": "stream",
     "text": [
      "this site is 100.000000% securely encrypted!!\n",
      "my average of this semester is 78.23%\n",
      "my average of this semester is 78%\n"
     ]
    }
   ],
   "source": [
    "print('this site is {0:f}% securely {1}!!'.format(100,'encrypted'))\n",
    "print('my average of this {0} is {1:.2f}%'.format('semester',78.232567))\n",
    "print('my average of this {0} is {1:.0f}%'.format('semester',78.232567))"
   ]
  },
  {
   "cell_type": "code",
   "execution_count": 42,
   "metadata": {},
   "outputs": [
    {
     "name": "stdout",
     "output_type": "stream",
     "text": [
      "the binary of 100 is 1100100\n",
      "the octal of 100 is 144\n"
     ]
    }
   ],
   "source": [
    "print('the {0} of 100 is {1:b}'.format('binary',100))\n",
    "print('the {0} of 100 is {1:o}'.format('octal',100))\n"
   ]
  },
  {
   "cell_type": "code",
   "execution_count": 43,
   "metadata": {},
   "outputs": [
    {
     "ename": "ValueError",
     "evalue": "Unknown format code 'd' for object of type 'float'",
     "output_type": "error",
     "traceback": [
      "\u001b[1;31m---------------------------------------------------------------------------\u001b[0m",
      "\u001b[1;31mValueError\u001b[0m                                Traceback (most recent call last)",
      "Cell \u001b[1;32mIn[43], line 1\u001b[0m\n\u001b[1;32m----> 1\u001b[0m \u001b[39mprint\u001b[39m(\u001b[39m'\u001b[39;49m\u001b[39mthe temp today is \u001b[39;49m\u001b[39m{0:d}\u001b[39;49;00m\u001b[39m'\u001b[39;49m\u001b[39m.\u001b[39;49mformat(\u001b[39m35.56768\u001b[39;49m))\n",
      "\u001b[1;31mValueError\u001b[0m: Unknown format code 'd' for object of type 'float'"
     ]
    }
   ],
   "source": [
    "print('the temp today is {0:d}'.format(35.56768))"
   ]
  },
  {
   "cell_type": "code",
   "execution_count": 44,
   "metadata": {},
   "outputs": [
    {
     "name": "stdout",
     "output_type": "stream",
     "text": [
      "the temp today is 36\n"
     ]
    }
   ],
   "source": [
    "print('the temp today is {0:.0f}'.format(35.56768))"
   ]
  },
  {
   "attachments": {},
   "cell_type": "markdown",
   "metadata": {},
   "source": [
    "Padding Substitutions or Generating Spaces-\n",
    "Example: Demonstration of spacing when strings are passed as parameters\n",
    "By default, strings are left-justified within the field, and numbers are right-justified. We can modify this by placing an alignment code just following the colon.\n",
    "\n",
    "<   :  left-align text in the field\n",
    "^   :  center text in the field\n",
    ">   :  right-align text in the field"
   ]
  },
  {
   "cell_type": "code",
   "execution_count": 45,
   "metadata": {},
   "outputs": [
    {
     "name": "stdout",
     "output_type": "stream",
     "text": [
      "it is    40 degrees outside\n"
     ]
    }
   ],
   "source": [
    "print('it is {0:5} degrees outside'.format(40))"
   ]
  },
  {
   "cell_type": "code",
   "execution_count": 49,
   "metadata": {},
   "outputs": [
    {
     "name": "stdout",
     "output_type": "stream",
     "text": [
      "shoeb was born in             1995\n",
      "     shoeb       was born in 1995\n",
      "*******Shoeb********\n"
     ]
    }
   ],
   "source": [
    "print('{0:3} was born in {1:16}'.format('shoeb',1995))\n",
    "print('{0:^16} was born in {1:<4}'.format('shoeb',1995))\n",
    "print('{0:*^20}'.format('Shoeb'))"
   ]
  },
  {
   "attachments": {},
   "cell_type": "markdown",
   "metadata": {},
   "source": [
    "Applications -\n",
    "Formatters are generally used to Organize Data. Formatters can be seen in their best light when they are being used to organize a lot of data in a visual way. If we are showing databases to users, using formatters to increase field size and modify alignment can make the output more readable."
   ]
  },
  {
   "cell_type": "code",
   "execution_count": 50,
   "metadata": {},
   "outputs": [],
   "source": [
    "def unorganized(a,b):\n",
    "    for i in range(a,b):\n",
    "        print(i,i**2,i**3,i**4)\n",
    "def organized(a,b):\n",
    "    for i in range(a,b):\n",
    "        print('{:6d} {:6d} {:6d} {:6d}'.format(i,i**2,i**3,i**4))\n"
   ]
  },
  {
   "cell_type": "code",
   "execution_count": 52,
   "metadata": {},
   "outputs": [
    {
     "name": "stdout",
     "output_type": "stream",
     "text": [
      "1 1 1 1\n",
      "2 4 8 16\n",
      "3 9 27 81\n",
      "4 16 64 256\n",
      "5 25 125 625\n",
      "     1      1      1      1\n",
      "     2      4      8     16\n",
      "     3      9     27     81\n",
      "     4     16     64    256\n",
      "     5     25    125    625\n"
     ]
    }
   ],
   "source": [
    "n1=int(input('enter lower range:\\n'))\n",
    "n2=int(input('enter upper range:\\n'))\n",
    "unorganized(n1,n2)\n",
    "organized(n1,n2)"
   ]
  },
  {
   "attachments": {},
   "cell_type": "markdown",
   "metadata": {},
   "source": [
    "Using a dictionary for string formatting -\n",
    "Using a dictionary to unpack values into the placeholders in the string that needs to be formatted. We basically use ** to unpack the values. This method can be useful in string substitution while preparing an SQL query.\n"
   ]
  },
  {
   "cell_type": "code",
   "execution_count": 53,
   "metadata": {},
   "outputs": [
    {
     "name": "stdout",
     "output_type": "stream",
     "text": [
      "my name is TONY HOWARD STARK AKA the Iron Man\n"
     ]
    }
   ],
   "source": [
    "intro='my name is {first_name} {middle_name} {last_name} AKA the {aka}'\n",
    "full_name={\n",
    "    'first_name':'TONY',\n",
    "    'middle_name':'HOWARD',\n",
    "    'last_name':'STARK',\n",
    "    'aka':'Iron Man',\n",
    "}\n",
    "print(intro.format(**full_name)) # '**' operator is used to unpack the values\n"
   ]
  },
  {
   "attachments": {},
   "cell_type": "markdown",
   "metadata": {},
   "source": [
    "Python format() with list-\n",
    "Given a list of float values, the task is to truncate all float values to 2-decimal digits. Let’s see the different methods to do the task.\n"
   ]
  },
  {
   "cell_type": "code",
   "execution_count": 55,
   "metadata": {},
   "outputs": [
    {
     "name": "stdout",
     "output_type": "stream",
     "text": [
      "['10.56', '17.30', '60.92', '300.10']\n"
     ]
    }
   ],
   "source": [
    "input=[10.56453988,17.298345,60.9234234975,300.0989217873245]\n",
    "output=['{:.2f}'.format(elem) for elem in input]\n",
    "print(output)"
   ]
  },
  {
   "attachments": {},
   "cell_type": "markdown",
   "metadata": {},
   "source": [
    "f string in python-"
   ]
  },
  {
   "cell_type": "code",
   "execution_count": 56,
   "metadata": {},
   "outputs": [
    {
     "name": "stdout",
     "output_type": "stream",
     "text": [
      "my name is Mohd Shoeb Ashraf and my friends call me Shoeb\n"
     ]
    }
   ],
   "source": [
    "val= \"Shoeb\"\n",
    "print(f'my name is Mohd {val} Ashraf and my friends call me {val}')"
   ]
  },
  {
   "cell_type": "code",
   "execution_count": 72,
   "metadata": {},
   "outputs": [
    {
     "name": "stdout",
     "output_type": "stream",
     "text": [
      "Hello,My name is shoeb and i am **25** years old!\n"
     ]
    }
   ],
   "source": [
    "name= 'shoeb'\n",
    "age=25\n",
    "print(f'Hello,My name is {name} and i am {age:*^6} years old!')"
   ]
  },
  {
   "cell_type": "code",
   "execution_count": 79,
   "metadata": {},
   "outputs": [
    {
     "name": "stdout",
     "output_type": "stream",
     "text": [
      "2023-06-23 02:00:59.550441\n",
      "June 23, 23\n"
     ]
    }
   ],
   "source": [
    "import datetime\n",
    "today=datetime.datetime.today()\n",
    "print(today)\n",
    "print(f'{today:%B %d, %y}')"
   ]
  },
  {
   "attachments": {},
   "cell_type": "markdown",
   "metadata": {},
   "source": [
    "Note : F-strings are faster than the two most commonly used string formatting mechanisms, which are % formatting and str.format(). \n",
    "  "
   ]
  },
  {
   "cell_type": "code",
   "execution_count": 80,
   "metadata": {},
   "outputs": [
    {
     "data": {
      "text/plain": [
       "'my answer is 456'"
      ]
     },
     "execution_count": 80,
     "metadata": {},
     "output_type": "execute_result"
    }
   ],
   "source": [
    "ans= 456\n",
    "f'my answer is {ans}'"
   ]
  },
  {
   "attachments": {},
   "cell_type": "markdown",
   "metadata": {},
   "source": [
    "Backslash Cannot be used in format string directly."
   ]
  },
  {
   "cell_type": "code",
   "execution_count": 81,
   "metadata": {},
   "outputs": [
    {
     "ename": "SyntaxError",
     "evalue": "unexpected character after line continuation character (3216797965.py, line 1)",
     "output_type": "error",
     "traceback": [
      "\u001b[1;36m  Cell \u001b[1;32mIn[81], line 1\u001b[1;36m\u001b[0m\n\u001b[1;33m    f'newline:{ord('\\n')}'\u001b[0m\n\u001b[1;37m                     ^\u001b[0m\n\u001b[1;31mSyntaxError\u001b[0m\u001b[1;31m:\u001b[0m unexpected character after line continuation character\n"
     ]
    }
   ],
   "source": [
    "f'newline:{ord('\\n')}'"
   ]
  },
  {
   "cell_type": "code",
   "execution_count": 82,
   "metadata": {},
   "outputs": [
    {
     "data": {
      "text/plain": [
       "'newline:10'"
      ]
     },
     "execution_count": 82,
     "metadata": {},
     "output_type": "execute_result"
    }
   ],
   "source": [
    "newline=ord('\\n')\n",
    "f'newline:{newline}'"
   ]
  },
  {
   "cell_type": "code",
   "execution_count": 8,
   "metadata": {},
   "outputs": [
    {
     "name": "stdout",
     "output_type": "stream",
     "text": [
      "1\n",
      "2\n",
      "3\n",
      "4\n",
      "5\n"
     ]
    }
   ],
   "source": [
    "\n",
    "for i in range(5):\n",
    "    i=i+1\n",
    "    print(i)\n"
   ]
  },
  {
   "cell_type": "code",
   "execution_count": null,
   "metadata": {},
   "outputs": [],
   "source": []
  }
 ],
 "metadata": {
  "kernelspec": {
   "display_name": "base",
   "language": "python",
   "name": "python3"
  },
  "language_info": {
   "codemirror_mode": {
    "name": "ipython",
    "version": 3
   },
   "file_extension": ".py",
   "mimetype": "text/x-python",
   "name": "python",
   "nbconvert_exporter": "python",
   "pygments_lexer": "ipython3",
   "version": "3.10.10"
  },
  "orig_nbformat": 4
 },
 "nbformat": 4,
 "nbformat_minor": 2
}
