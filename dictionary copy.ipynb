{
 "cells": [
  {
   "cell_type": "code",
   "execution_count": 1,
   "metadata": {},
   "outputs": [],
   "source": [
    "students={\n",
    "    'Maulik':{\n",
    "        'College':'MU',\n",
    "        'type':'Offline' },\n",
    "    'Aman':'NPGC',\n",
    "    'Abhay':'NPGC',\n",
    "    'Mazahar':'AU',\n",
    "    'Imadul':'IU',\n",
    "    'Prashutosh':'SHUATS',\n",
    "    'Shoeb':{\n",
    "        'College':'IET',\n",
    "        'type' : 'online' },\n",
    "    'Mandavi':{\n",
    "        'college':'HNBGU',\n",
    "        'Type':'online' }\n",
    "}"
   ]
  },
  {
   "cell_type": "code",
   "execution_count": 6,
   "metadata": {},
   "outputs": [
    {
     "data": {
      "text/plain": [
       "'NPGC'"
      ]
     },
     "execution_count": 6,
     "metadata": {},
     "output_type": "execute_result"
    }
   ],
   "source": [
    "students['Aman']"
   ]
  },
  {
   "cell_type": "code",
   "execution_count": 2,
   "metadata": {},
   "outputs": [],
   "source": [
    "from pprint import pp"
   ]
  },
  {
   "cell_type": "code",
   "execution_count": 13,
   "metadata": {},
   "outputs": [
    {
     "name": "stdout",
     "output_type": "stream",
     "text": [
      "{'Maulik': {'College': 'MU', 'type': 'Offline'},\n",
      " 'Aman': 'NPGC',\n",
      " 'Abhay': 'NPGC',\n",
      " 'Mazahar': 'AU',\n",
      " 'Imadul': 'IU',\n",
      " 'Prashutosh': 'SHUATS',\n",
      " 'Shoeb': {'College': 'IET', 'type': 'online'},\n",
      " 'Mandavi': {'college': 'HNBGU', 'Type': 'online'}}\n"
     ]
    }
   ],
   "source": [
    "pp(students)"
   ]
  },
  {
   "cell_type": "code",
   "execution_count": 14,
   "metadata": {},
   "outputs": [
    {
     "data": {
      "text/plain": [
       "'online'"
      ]
     },
     "execution_count": 14,
     "metadata": {},
     "output_type": "execute_result"
    }
   ],
   "source": [
    "students['Mandavi']['Type']"
   ]
  },
  {
   "cell_type": "code",
   "execution_count": 16,
   "metadata": {},
   "outputs": [],
   "source": [
    "students['Shreya']={\n",
    "    'college':'BBDU',\n",
    "    'type':'online'\n",
    "}"
   ]
  },
  {
   "cell_type": "code",
   "execution_count": 18,
   "metadata": {},
   "outputs": [
    {
     "name": "stdout",
     "output_type": "stream",
     "text": [
      "{'Maulik': {'College': 'MU', 'type': 'Offline'},\n",
      " 'Aman': 'NPGC',\n",
      " 'Abhay': 'NPGC',\n",
      " 'Mazahar': 'AU',\n",
      " 'Imadul': 'IU',\n",
      " 'Prashutosh': 'SHUATS',\n",
      " 'Shoeb': {'College': 'IET', 'type': 'online'},\n",
      " 'Mandavi': {'college': 'HNBGU', 'Type': 'online'},\n",
      " 'Shreya': {'college': 'BBDU', 'type': 'online'}}\n"
     ]
    }
   ],
   "source": [
    "pp(students)"
   ]
  },
  {
   "cell_type": "code",
   "execution_count": 20,
   "metadata": {},
   "outputs": [
    {
     "name": "stdout",
     "output_type": "stream",
     "text": [
      "{'Maulik': {'College': 'MU', 'type': 'Offline'},\n",
      " 'Aman': 'NPGC',\n",
      " 'Abhay': 'NPGC',\n",
      " 'Mazahar': 'AU',\n",
      " 'Imadul': 'IU',\n",
      " 'Prashutosh': 'SHUATS',\n",
      " 'Shoeb': {'College': 'IET', 'type': 'flexi'},\n",
      " 'Mandavi': {'college': 'HNBGU', 'Type': 'online'},\n",
      " 'Shreya': {'college': 'BBDU', 'type': 'online'}}\n"
     ]
    }
   ],
   "source": [
    "students['Shoeb']['type']='flexi'\n",
    "pp(students)"
   ]
  },
  {
   "cell_type": "code",
   "execution_count": 21,
   "metadata": {},
   "outputs": [
    {
     "data": {
      "text/plain": [
       "'NPGC'"
      ]
     },
     "execution_count": 21,
     "metadata": {},
     "output_type": "execute_result"
    }
   ],
   "source": [
    "students.pop('Abhay')"
   ]
  },
  {
   "cell_type": "code",
   "execution_count": 22,
   "metadata": {},
   "outputs": [
    {
     "name": "stdout",
     "output_type": "stream",
     "text": [
      "{'Maulik': {'College': 'MU', 'type': 'Offline'},\n",
      " 'Aman': 'NPGC',\n",
      " 'Mazahar': 'AU',\n",
      " 'Imadul': 'IU',\n",
      " 'Prashutosh': 'SHUATS',\n",
      " 'Shoeb': {'College': 'IET', 'type': 'flexi'},\n",
      " 'Mandavi': {'college': 'HNBGU', 'Type': 'online'},\n",
      " 'Shreya': {'college': 'BBDU', 'type': 'online'}}\n"
     ]
    }
   ],
   "source": [
    "pp(students)"
   ]
  },
  {
   "cell_type": "code",
   "execution_count": 3,
   "metadata": {},
   "outputs": [],
   "source": [
    "report={\n",
    "    'class10':{\n",
    "        'rohan':{\n",
    "            'english':90,\n",
    "            'maths':95,\n",
    "            'hindi':85,\n",
    "            'science':95,\n",
    "            'ssc':95,\n",
    "            'p.e':95,\n",
    "        },\n",
    "        'mohit':{\n",
    "            'english':90,\n",
    "            'maths':95,\n",
    "            'hindi':85,\n",
    "            'science':95,\n",
    "            'ssc':95,\n",
    "            'p.e':95,\n",
    "\n",
    "        },\n",
    "        'shreya':{\n",
    "            'english':80,\n",
    "            'maths':85,\n",
    "            'hindi':75,\n",
    "            'science':75,\n",
    "            'ssc':85,\n",
    "            'p.e':65,\n",
    "\n",
    "        },\n",
    "        'shubham':{\n",
    "            'english':70,\n",
    "            'maths':85,\n",
    "            'hindi':95,\n",
    "            'science':75,\n",
    "            'ssc':65,\n",
    "            'p.e':95,\n",
    "\n",
    "        },\n",
    "        'shruti':{\n",
    "            'english':40,\n",
    "            'maths':85,\n",
    "            'hindi':95,\n",
    "            'science':75,\n",
    "            'ssc':65,\n",
    "            'p.e':95,\n",
    "            },\n",
    "        'alex':{\n",
    "            'english':52,\n",
    "            'maths':75,\n",
    "            'hindi':93,\n",
    "            'science':72,\n",
    "            'ssc':45,\n",
    "            'p.e':85,\n",
    "        },\n",
    "    }\n",
    "}"
   ]
  },
  {
   "cell_type": "code",
   "execution_count": 28,
   "metadata": {},
   "outputs": [
    {
     "name": "stdout",
     "output_type": "stream",
     "text": [
      "{'class10': {'rohan': {'english': 90,\n",
      "                       'maths': 95,\n",
      "                       'hindi': 85,\n",
      "                       'science': 95,\n",
      "                       'ssc': 95,\n",
      "                       'p.e': 95},\n",
      "             'mohit': {'english': 90,\n",
      "                       'maths': 95,\n",
      "                       'hindi': 85,\n",
      "                       'science': 95,\n",
      "                       'ssc': 95,\n",
      "                       'p.e': 95},\n",
      "             'shreya': {'english': 80,\n",
      "                        'maths': 85,\n",
      "                        'hindi': 75,\n",
      "                        'science': 75,\n",
      "                        'ssc': 85,\n",
      "                        'p.e': 65},\n",
      "             'shubham': {'english': 70,\n",
      "                         'maths': 85,\n",
      "                         'hindi': 95,\n",
      "                         'science': 75,\n",
      "                         'ssc': 65,\n",
      "                         'p.e': 95},\n",
      "             'shruti': {'english': 40,\n",
      "                        'maths': 85,\n",
      "                        'hindi': 95,\n",
      "                        'science': 75,\n",
      "                        'ssc': 65,\n",
      "                        'p.e': 95},\n",
      "             'alex': {'english': 52,\n",
      "                      'maths': 75,\n",
      "                      'hindi': 93,\n",
      "                      'science': 72,\n",
      "                      'ssc': 45,\n",
      "                      'p.e': 85}}}\n"
     ]
    }
   ],
   "source": [
    "pp(report)"
   ]
  },
  {
   "cell_type": "code",
   "execution_count": 4,
   "metadata": {},
   "outputs": [
    {
     "name": "stdout",
     "output_type": "stream",
     "text": [
      "dict_keys(['class10'])\n"
     ]
    }
   ],
   "source": [
    "print(report.keys())"
   ]
  },
  {
   "cell_type": "code",
   "execution_count": 5,
   "metadata": {},
   "outputs": [
    {
     "data": {
      "text/plain": [
       "dict_keys(['rohan', 'mohit', 'shreya', 'shubham', 'shruti', 'alex'])"
      ]
     },
     "execution_count": 5,
     "metadata": {},
     "output_type": "execute_result"
    }
   ],
   "source": [
    "report['class10'].keys()"
   ]
  },
  {
   "cell_type": "code",
   "execution_count": 6,
   "metadata": {},
   "outputs": [
    {
     "data": {
      "text/plain": [
       "dict_keys(['english', 'maths', 'hindi', 'science', 'ssc', 'p.e'])"
      ]
     },
     "execution_count": 6,
     "metadata": {},
     "output_type": "execute_result"
    }
   ],
   "source": [
    "report['class10']['rohan'].keys()"
   ]
  },
  {
   "cell_type": "code",
   "execution_count": 7,
   "metadata": {},
   "outputs": [
    {
     "data": {
      "text/plain": [
       "90"
      ]
     },
     "execution_count": 7,
     "metadata": {},
     "output_type": "execute_result"
    }
   ],
   "source": [
    "report['class10']['rohan']['english']"
   ]
  },
  {
   "cell_type": "code",
   "execution_count": 8,
   "metadata": {},
   "outputs": [
    {
     "data": {
      "text/plain": [
       "dict_values([{'rohan': {'english': 90, 'maths': 95, 'hindi': 85, 'science': 95, 'ssc': 95, 'p.e': 95}, 'mohit': {'english': 90, 'maths': 95, 'hindi': 85, 'science': 95, 'ssc': 95, 'p.e': 95}, 'shreya': {'english': 80, 'maths': 85, 'hindi': 75, 'science': 75, 'ssc': 85, 'p.e': 65}, 'shubham': {'english': 70, 'maths': 85, 'hindi': 95, 'science': 75, 'ssc': 65, 'p.e': 95}, 'shruti': {'english': 40, 'maths': 85, 'hindi': 95, 'science': 75, 'ssc': 65, 'p.e': 95}, 'alex': {'english': 52, 'maths': 75, 'hindi': 93, 'science': 72, 'ssc': 45, 'p.e': 85}}])"
      ]
     },
     "execution_count": 8,
     "metadata": {},
     "output_type": "execute_result"
    }
   ],
   "source": [
    "report.values()"
   ]
  },
  {
   "cell_type": "code",
   "execution_count": 12,
   "metadata": {},
   "outputs": [
    {
     "name": "stdout",
     "output_type": "stream",
     "text": [
      "dict_values([{'english': 90, 'maths': 95, 'hindi': 85, 'science': 95, 'ssc': 95, 'p.e': 95}, {'english': 90, 'maths': 95, 'hindi': 85, 'science': 95, 'ssc': 95, 'p.e': 95}, {'english': 80, 'maths': 85, 'hindi': 75, 'science': 75, 'ssc': 85, 'p.e': 65}, {'english': 70, 'maths': 85, 'hindi': 95, 'science': 75, 'ssc': 65, 'p.e': 95}, {'english': 40, 'maths': 85, 'hindi': 95, 'science': 75, 'ssc': 65, 'p.e': 95}, {'english': 52, 'maths': 75, 'hindi': 93, 'science': 72, 'ssc': 45, 'p.e': 85}])\n"
     ]
    }
   ],
   "source": [
    "report['class10'].values()"
   ]
  },
  {
   "cell_type": "code",
   "execution_count": 13,
   "metadata": {},
   "outputs": [
    {
     "name": "stdout",
     "output_type": "stream",
     "text": [
      "dict_values([{'english': 90, 'maths': 95, 'hindi': 85, 'science': 95, 'ssc': 95, 'p.e': 95}, {'english': 90, 'maths': 95, 'hindi': 85, 'science': 95, 'ssc': 95, 'p.e': 95}, {'english': 80, 'maths': 85, 'hindi': 75, 'science': 75, 'ssc': 85, 'p.e': 65}, {'english': 70, 'maths': 85, 'hindi': 95, 'science': 75, 'ssc': 65, 'p.e': 95}, {'english': 40, 'maths': 85, 'hindi': 95, 'science': 75, 'ssc': 65, 'p.e': 95}, {'english': 52, 'maths': 75, 'hindi': 93, 'science': 72, 'ssc': 45, 'p.e': 85}])\n"
     ]
    }
   ],
   "source": [
    "print(report['class10'].values())"
   ]
  },
  {
   "cell_type": "code",
   "execution_count": 20,
   "metadata": {},
   "outputs": [],
   "source": [
    "movies={\n",
    "    '3 idiots':'a story about 3 idiot friends',\n",
    "    'lunchbox':'a story about a lunchbox',\n",
    "    'dangal':'a story about a wrestler',\n",
    "    'pk':'a story about an alien',\n",
    "    'taare zameen par':'a story about a dyslexic child',\n",
    "}"
   ]
  },
  {
   "cell_type": "code",
   "execution_count": 16,
   "metadata": {},
   "outputs": [
    {
     "data": {
      "text/plain": [
       "dict_items([('3 idiots', 'a story about 3 idiot friends'), ('lunchbox', 'a story about a lunchbox'), ('dangal', 'a story about a wrestler'), ('pk', 'a story about an alien'), ('taare zameen par', 'a story about a dyslexic child')])"
      ]
     },
     "execution_count": 16,
     "metadata": {},
     "output_type": "execute_result"
    }
   ],
   "source": [
    "movies.items() #it gives list of tuples"
   ]
  },
  {
   "cell_type": "code",
   "execution_count": 22,
   "metadata": {},
   "outputs": [
    {
     "name": "stdout",
     "output_type": "stream",
     "text": [
      "3 idiots             a story about 3 idiot friends\n",
      "lunchbox             a story about a lunchbox\n",
      "dangal               a story about a wrestler\n",
      "pk                   a story about an alien\n",
      "taare zameen par     a story about a dyslexic child\n"
     ]
    }
   ],
   "source": [
    "for k,v in movies.items():\n",
    "    print(f'{k:20} {v}')"
   ]
  },
  {
   "cell_type": "code",
   "execution_count": 24,
   "metadata": {},
   "outputs": [
    {
     "data": {
      "text/plain": [
       "True"
      ]
     },
     "execution_count": 24,
     "metadata": {},
     "output_type": "execute_result"
    }
   ],
   "source": [
    "isinstance(report['class10'],dict) #verify if the object is a data type"
   ]
  },
  {
   "cell_type": "code",
   "execution_count": 27,
   "metadata": {},
   "outputs": [
    {
     "name": "stdout",
     "output_type": "stream",
     "text": [
      "class10\n",
      "-> rohan\n",
      "  -> english = 90\n",
      "  -> maths = 95\n",
      "  -> hindi = 85\n",
      "  -> science = 95\n",
      "  -> ssc = 95\n",
      "  -> p.e = 95\n",
      "-> mohit\n",
      "  -> english = 90\n",
      "  -> maths = 95\n",
      "  -> hindi = 85\n",
      "  -> science = 95\n",
      "  -> ssc = 95\n",
      "  -> p.e = 95\n",
      "-> shreya\n",
      "  -> english = 80\n",
      "  -> maths = 85\n",
      "  -> hindi = 75\n",
      "  -> science = 75\n",
      "  -> ssc = 85\n",
      "  -> p.e = 65\n",
      "-> shubham\n",
      "  -> english = 70\n",
      "  -> maths = 85\n",
      "  -> hindi = 95\n",
      "  -> science = 75\n",
      "  -> ssc = 65\n",
      "  -> p.e = 95\n",
      "-> shruti\n",
      "  -> english = 40\n",
      "  -> maths = 85\n",
      "  -> hindi = 95\n",
      "  -> science = 75\n",
      "  -> ssc = 65\n",
      "  -> p.e = 95\n",
      "-> alex\n",
      "  -> english = 52\n",
      "  -> maths = 75\n",
      "  -> hindi = 93\n",
      "  -> science = 72\n",
      "  -> ssc = 45\n",
      "  -> p.e = 85\n"
     ]
    }
   ],
   "source": [
    "for cls,students in report.items():\n",
    "    print(cls)\n",
    "    if isinstance(students,dict):\n",
    "        for name,subjects in students.items():\n",
    "            print('->',name)\n",
    "            if isinstance(subjects,dict):\n",
    "                for subject,marks in subjects.items():\n",
    "                    print('  ->',subject,'=',marks)\n",
    "    "
   ]
  },
  {
   "cell_type": "code",
   "execution_count": 35,
   "metadata": {},
   "outputs": [
    {
     "name": "stdout",
     "output_type": "stream",
     "text": [
      "class10\n",
      "-> rohan\n",
      "  total-> 555\n",
      "-> mohit\n",
      "  total-> 555\n",
      "-> shreya\n",
      "  total-> 465\n",
      "-> shubham\n",
      "  total-> 485\n",
      "-> shruti\n",
      "  total-> 455\n",
      "-> alex\n",
      "  total-> 422\n"
     ]
    }
   ],
   "source": [
    "for cls,students in report.items():\n",
    "    print(cls)\n",
    "    if isinstance(students,dict):\n",
    "        for name,subjects in students.items():\n",
    "            print('->',name)\n",
    "            if isinstance(subjects,dict):\n",
    "                total=0\n",
    "                for subject,marks in subjects.items():\n",
    "                    total += marks \n",
    "                print('  total->',total)\n",
    "\n"
   ]
  },
  {
   "cell_type": "code",
   "execution_count": 36,
   "metadata": {},
   "outputs": [
    {
     "name": "stdout",
     "output_type": "stream",
     "text": [
      "class10\n",
      "-> rohan\n",
      "  avg-> 92\n",
      "-> mohit\n",
      "  avg-> 92\n",
      "-> shreya\n",
      "  avg-> 77\n",
      "-> shubham\n",
      "  avg-> 80\n",
      "-> shruti\n",
      "  avg-> 75\n",
      "-> alex\n",
      "  avg-> 70\n"
     ]
    }
   ],
   "source": [
    "for cls,students in report.items():\n",
    "    print(cls)\n",
    "    if isinstance(students,dict):\n",
    "        for name,subjects in students.items():\n",
    "            print('->',name)\n",
    "            if isinstance(subjects,dict):\n",
    "                total=0\n",
    "                for subject,marks in subjects.items():\n",
    "                    total += marks \n",
    "                print('  avg->',total//6)\n"
   ]
  },
  {
   "cell_type": "code",
   "execution_count": 38,
   "metadata": {},
   "outputs": [
    {
     "name": "stdout",
     "output_type": "stream",
     "text": [
      "class10\n",
      "-> rohan\n",
      "  avg-> 92.5\n",
      "-> mohit\n",
      "  avg-> 92.5\n",
      "-> shreya\n",
      "  avg-> 77.5\n",
      "-> shubham\n",
      "  avg-> 80.83333333333333\n",
      "-> shruti\n",
      "  avg-> 75.83333333333333\n",
      "-> alex\n",
      "  avg-> 70.33333333333333\n"
     ]
    }
   ],
   "source": [
    "for cls,students in report.items():\n",
    "    print(cls)\n",
    "    if isinstance(students,dict):\n",
    "        for name,subjects in students.items():\n",
    "            print('->',name)\n",
    "            if isinstance(subjects,dict):\n",
    "                total=sum(subjects.values())\n",
    "                print('  avg->',total/6)"
   ]
  },
  {
   "cell_type": "code",
   "execution_count": 40,
   "metadata": {},
   "outputs": [
    {
     "name": "stdout",
     "output_type": "stream",
     "text": [
      "class10\n",
      "-> rohan\n",
      "95\n",
      "-> mohit\n",
      "95\n",
      "-> shreya\n",
      "85\n",
      "-> shubham\n",
      "95\n",
      "-> shruti\n",
      "95\n",
      "-> alex\n",
      "93\n"
     ]
    }
   ],
   "source": [
    "for cls,students in report.items():\n",
    "    print(cls)\n",
    "    if isinstance(students,dict):\n",
    "        for name,subjects in students.items():\n",
    "            print('->',name)\n",
    "            if isinstance(subjects,dict):\n",
    "                highest=max(subjects.values())\n",
    "                print(highest)"
   ]
  },
  {
   "cell_type": "code",
   "execution_count": 42,
   "metadata": {},
   "outputs": [
    {
     "name": "stdout",
     "output_type": "stream",
     "text": [
      "class10\n",
      "-> rohan\n",
      "  max-> maths 95\n",
      "-> mohit\n",
      "  max-> maths 95\n",
      "-> shreya\n",
      "  max-> maths 85\n",
      "-> shubham\n",
      "  max-> hindi 95\n",
      "-> shruti\n",
      "  max-> hindi 95\n",
      "-> alex\n",
      "  max-> hindi 93\n"
     ]
    }
   ],
   "source": [
    "for cls,students in report.items():\n",
    "    print(cls)\n",
    "    if isinstance(students,dict):\n",
    "        for name,subjects in students.items():\n",
    "            print('->',name)\n",
    "            if isinstance(subjects,dict):\n",
    "                mm=None\n",
    "                sub=None\n",
    "                for subject,marks in subjects.items():\n",
    "                    if mm is None or mm < marks:\n",
    "                        mm=marks\n",
    "                        sub=subject\n",
    "                print('  max->',sub,mm)"
   ]
  },
  {
   "cell_type": "code",
   "execution_count": null,
   "metadata": {},
   "outputs": [],
   "source": []
  }
 ],
 "metadata": {
  "kernelspec": {
   "display_name": "base",
   "language": "python",
   "name": "python3"
  },
  "language_info": {
   "codemirror_mode": {
    "name": "ipython",
    "version": 3
   },
   "file_extension": ".py",
   "mimetype": "text/x-python",
   "name": "python",
   "nbconvert_exporter": "python",
   "pygments_lexer": "ipython3",
   "version": "3.10.10"
  },
  "orig_nbformat": 4
 },
 "nbformat": 4,
 "nbformat_minor": 2
}
