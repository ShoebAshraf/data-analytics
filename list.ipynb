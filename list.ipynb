{
 "cells": [
  {
   "cell_type": "code",
   "execution_count": 20,
   "metadata": {},
   "outputs": [
    {
     "name": "stdout",
     "output_type": "stream",
     "text": [
      "27\n"
     ]
    }
   ],
   "source": [
    "apps=['whatsapp','fb','insta','amazon','flipkart','paytm','google pay','messenger','twitter','merriam webster','myntra','ola','rapido','digilocker','inshorts','zomato','swiggy','coc','zee5','prime','netflix','quora','irctc','truecaller','my jio','oyo','telegram']\n",
    "print(len(apps))"
   ]
  },
  {
   "cell_type": "code",
   "execution_count": 21,
   "metadata": {},
   "outputs": [
    {
     "name": "stdout",
     "output_type": "stream",
     "text": [
      "['whatsapp', 'fb', 'insta', 'amazon', 'flipkart', 'paytm', 'google pay', 'messenger', 'twitter', 'merriam webster', 'myntra', 'ola', 'rapido', 'digilocker', 'inshorts', 'zomato', 'swiggy', 'coc', 'zee5', 'prime', 'netflix', 'quora', 'irctc', 'truecaller', 'my jio', 'oyo', 'telegram', 'phonepe']\n"
     ]
    }
   ],
   "source": [
    "apps.append('phonepe') #adds an element to the list\n",
    "print(apps)"
   ]
  },
  {
   "cell_type": "code",
   "execution_count": 22,
   "metadata": {},
   "outputs": [
    {
     "name": "stdout",
     "output_type": "stream",
     "text": [
      "['whatsapp', 'fb', 'insta', 'amazon', 'snapdeal', 'flipkart', 'paytm', 'google pay', 'messenger', 'twitter', 'merriam webster', 'myntra', 'ola', 'rapido', 'digilocker', 'inshorts', 'zomato', 'swiggy', 'coc', 'zee5', 'prime', 'netflix', 'quora', 'irctc', 'truecaller', 'my jio', 'oyo', 'telegram', 'phonepe']\n"
     ]
    }
   ],
   "source": [
    "apps.insert(4,'snapdeal') #adds an element at an specified position\n",
    "print(apps)"
   ]
  },
  {
   "cell_type": "code",
   "execution_count": 23,
   "metadata": {},
   "outputs": [
    {
     "name": "stdout",
     "output_type": "stream",
     "text": [
      "['phonepe', 'telegram', 'oyo', 'my jio', 'truecaller', 'irctc', 'quora', 'netflix', 'prime', 'zee5', 'coc', 'swiggy', 'zomato', 'inshorts', 'digilocker', 'rapido', 'ola', 'myntra', 'merriam webster', 'twitter', 'messenger', 'google pay', 'paytm', 'flipkart', 'snapdeal', 'amazon', 'insta', 'fb', 'whatsapp']\n"
     ]
    }
   ],
   "source": [
    "apps.reverse() #reverse the list\n",
    "print(apps)"
   ]
  },
  {
   "cell_type": "code",
   "execution_count": 24,
   "metadata": {},
   "outputs": [
    {
     "name": "stdout",
     "output_type": "stream",
     "text": [
      "['telegram', 'oyo', 'my jio', 'truecaller', 'irctc', 'quora', 'netflix', 'prime', 'zee5', 'coc', 'swiggy', 'zomato', 'inshorts', 'digilocker', 'rapido', 'ola', 'myntra', 'merriam webster', 'twitter', 'messenger', 'google pay', 'paytm', 'flipkart', 'snapdeal', 'amazon', 'insta', 'fb', 'whatsapp']\n"
     ]
    }
   ],
   "source": [
    "apps.pop(0) #deletes the element from the specified position\n",
    "print(apps)"
   ]
  },
  {
   "cell_type": "code",
   "execution_count": 25,
   "metadata": {},
   "outputs": [
    {
     "name": "stdout",
     "output_type": "stream",
     "text": [
      "['telegram', 'oyo', 'my jio', 'truecaller', 'irctc', 'quora', 'netflix', 'prime', 'zee5', 'coc', 'swiggy', 'zomato', 'inshorts', 'digilocker', 'rapido', 'ola', 'myntra', 'merriam webster', 'twitter', 'messenger', 'google pay', 'paytm', 'snapdeal', 'amazon', 'insta', 'fb', 'whatsapp']\n"
     ]
    }
   ],
   "source": [
    "apps.remove('flipkart')\n",
    "print(apps)"
   ]
  },
  {
   "cell_type": "code",
   "execution_count": 26,
   "metadata": {},
   "outputs": [
    {
     "name": "stdout",
     "output_type": "stream",
     "text": [
      "['amazon', 'coc', 'digilocker', 'fb', 'google pay', 'inshorts', 'insta', 'irctc', 'merriam webster', 'messenger', 'my jio', 'myntra', 'netflix', 'ola', 'oyo', 'paytm', 'prime', 'quora', 'rapido', 'snapdeal', 'swiggy', 'telegram', 'truecaller', 'twitter', 'whatsapp', 'zee5', 'zomato']\n"
     ]
    }
   ],
   "source": [
    "apps.sort() #sorts list in alphabetical or numerical order\n",
    "print(apps)"
   ]
  },
  {
   "cell_type": "code",
   "execution_count": 27,
   "metadata": {},
   "outputs": [
    {
     "name": "stdout",
     "output_type": "stream",
     "text": [
      "1\n"
     ]
    }
   ],
   "source": [
    "x=apps.count('snapdeal') #counts how many times specified element is repeated in the list\n",
    "print(x)"
   ]
  },
  {
   "cell_type": "code",
   "execution_count": 29,
   "metadata": {},
   "outputs": [
    {
     "name": "stdout",
     "output_type": "stream",
     "text": [
      "['amazon', 'coc', 'digilocker', 'fb', 'google pay', 'inshorts', 'insta', 'irctc', 'merriam webster', 'messenger', 'my jio', 'myntra', 'netflix', 'ola', 'oyo', 'paytm', 'prime', 'quora', 'rapido', 'snapdeal', 'swiggy', 'telegram', 'truecaller', 'twitter', 'whatsapp', 'zee5', 'zomato']\n"
     ]
    }
   ],
   "source": [
    "x=apps.copy() #copies the list\n",
    "print(x)"
   ]
  },
  {
   "cell_type": "code",
   "execution_count": 30,
   "metadata": {},
   "outputs": [
    {
     "name": "stdout",
     "output_type": "stream",
     "text": [
      "['amazon', 'coc', 'digilocker', 'fb', 'google pay', 'inshorts', 'insta', 'irctc', 'merriam webster', 'messenger', 'my jio', 'myntra', 'netflix', 'ola', 'oyo', 'paytm', 'prime', 'quora', 'rapido', 'snapdeal', 'swiggy', 'telegram', 'truecaller', 'twitter', 'whatsapp', 'zee5', 'zomato', 'uber', 'ola', 'rapido']\n"
     ]
    }
   ],
   "source": [
    "apps2=['uber','ola','rapido']\n",
    "apps.extend(apps2) #adds another list at the end of first list\n",
    "print(apps)"
   ]
  },
  {
   "cell_type": "code",
   "execution_count": 32,
   "metadata": {},
   "outputs": [
    {
     "name": "stdout",
     "output_type": "stream",
     "text": [
      "13\n"
     ]
    }
   ],
   "source": [
    "x=apps.index('ola') #gives position of the specified element\n",
    "print(x)"
   ]
  },
  {
   "cell_type": "code",
   "execution_count": 36,
   "metadata": {},
   "outputs": [],
   "source": [
    "apps.clear() #clears complete list"
   ]
  },
  {
   "cell_type": "code",
   "execution_count": 33,
   "metadata": {},
   "outputs": [
    {
     "name": "stdout",
     "output_type": "stream",
     "text": [
      "168\n"
     ]
    }
   ],
   "source": [
    "x=[2,3,4,5,6,7,8,9,23,45,56]\n",
    "y=sum(x)\n",
    "print(y)"
   ]
  },
  {
   "cell_type": "code",
   "execution_count": 34,
   "metadata": {},
   "outputs": [
    {
     "name": "stdout",
     "output_type": "stream",
     "text": [
      "56\n"
     ]
    }
   ],
   "source": [
    "max(x)\n",
    "print(max(x))"
   ]
  },
  {
   "cell_type": "code",
   "execution_count": 35,
   "metadata": {},
   "outputs": [
    {
     "name": "stdout",
     "output_type": "stream",
     "text": [
      "2\n"
     ]
    }
   ],
   "source": [
    "min(x)\n",
    "print(min(x))"
   ]
  },
  {
   "cell_type": "code",
   "execution_count": null,
   "metadata": {},
   "outputs": [],
   "source": []
  }
 ],
 "metadata": {
  "kernelspec": {
   "display_name": "base",
   "language": "python",
   "name": "python3"
  },
  "language_info": {
   "codemirror_mode": {
    "name": "ipython",
    "version": 3
   },
   "file_extension": ".py",
   "mimetype": "text/x-python",
   "name": "python",
   "nbconvert_exporter": "python",
   "pygments_lexer": "ipython3",
   "version": "3.10.10"
  },
  "orig_nbformat": 4
 },
 "nbformat": 4,
 "nbformat_minor": 2
}
